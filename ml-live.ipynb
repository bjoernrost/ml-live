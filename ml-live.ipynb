{
 "cells": [
  {
   "cell_type": "markdown",
   "metadata": {},
   "source": [
    "![Machine Learning Live](images/title-slide.png \"Title\")"
   ]
  },
  {
   "cell_type": "code",
   "execution_count": 1,
   "metadata": {},
   "outputs": [
    {
     "name": "stderr",
     "output_type": "stream",
     "text": [
      "/usr/local/envs/py2env/lib/python2.7/site-packages/h5py/__init__.py:36: FutureWarning: Conversion of the second argument of issubdtype from `float` to `np.floating` is deprecated. In future, it will be treated as `np.float64 == np.dtype(float).type`.\n",
      "  from ._conv import register_converters as _register_converters\n"
     ]
    }
   ],
   "source": [
    "import datalab.bigquery as bq\n",
    "import seaborn as sns\n",
    "import pandas as pd\n",
    "import numpy as np\n",
    "import os\n",
    "import shutil\n",
    "import tensorflow as tf\n",
    "import matplotlib.pyplot as plt\n",
    "import warnings\n",
    "warnings.filterwarnings('ignore')\n",
    "warnings.simplefilter(action='ignore', category=FutureWarning)"
   ]
  },
  {
   "cell_type": "markdown",
   "metadata": {},
   "source": [
    "# predict an output based on known inputs\n",
    "\n",
    "* rate/demand forecasts\n",
    "* probability of things like fraud or conversions\n",
    "* package delivery times\n",
    "* medical, eg: mortality rates for risk groups\n",
    "* insurance risk\n",
    "* operations/monitoring\n",
    "\n",
    "## traditional rules\n",
    "\n",
    "~~~~\n",
    "                   rules\n",
    "                     ||\n",
    "                     \\/\n",
    "             ----------------\n",
    " input ====> |  algorithm   |  =====> output\n",
    "             ----------------\n",
    "~~~~\n",
    "\n",
    "## With Machine Learning\n",
    "\n",
    "~~~~\n",
    "                    data\n",
    "                     ||\n",
    "                     \\/\n",
    "             ----------------\n",
    " input ====> |   ML model   |  =====> output\n",
    "             ----------------\n",
    "~~~~"
   ]
  },
  {
   "cell_type": "markdown",
   "metadata": {},
   "source": [
    "# Why Taxi Fares?\n",
    "\n",
    "The city of [New York published a dataset](http://www.nyc.gov/html/tlc/html/about/trip_record_data.shtml) with taxi > 150M rides per year since 2009. This makes it a great dataset for training because:\n",
    "\n",
    "* one can easily relate to the data (we have all used taxis before)\n",
    "* simple enough, one table with a handful of columns\n",
    "* large enough to do relevant machine learning\n",
    "* there are lots of blogs, notebooks etc from others about all aspects of this data"
   ]
  },
  {
   "cell_type": "markdown",
   "metadata": {},
   "source": [
    "# NYC Taxi fares\n",
    "\n",
    "Sounds easy enough to do with rules:\n",
    "\n",
    "* initial charge \\$2.50\n",
    "* \\$0.40 per 1/5 mile\n",
    "* \\$0.40 per 1 minute stopped/slow traffic\n",
    "* \\$1.00 Weekday Surcharge 4pm-8pm\n",
    "* \\$0.50 Night Surcharge 8pm-6am\n",
    "\n",
    "But to calculate this before a trip you need to already know the route time and distance. We will use this route from LGA to midtown Manhattan as an example and you can see that there are different route options with different estimated times and mileages. These also vary highly with the amount of traffic over the course of a day.\n",
    "\n",
    "![sample route LGA to midtown](images/sample_route.png \"Sample Route\")"
   ]
  },
  {
   "cell_type": "markdown",
   "metadata": {},
   "source": [
    "# A quick look at the data\n",
    "\n",
    "The dataset that we will use is a public data and conveniently available at several locations, including a <a href=\"https://bigquery.cloud.google.com/table/nyc-tlc:yellow.trips\">BigQuery public dataset</a>. \n",
    "\n",
    "Let's write a SQL query to poke around."
   ]
  },
  {
   "cell_type": "code",
   "execution_count": 3,
   "metadata": {},
   "outputs": [],
   "source": [
    "%sql --module afewrecords2\n",
    "SELECT\n",
    "  pickup_datetime,\n",
    "  pickup_longitude, pickup_latitude, \n",
    "  dropoff_longitude, dropoff_latitude,\n",
    "  passenger_count,\n",
    "  trip_distance,\n",
    "  tolls_amount,\n",
    "  fare_amount,\n",
    "  total_amount\n",
    "FROM\n",
    "  [nyc-tlc:yellow.trips]\n",
    "WHERE\n",
    "  ABS(HASH(pickup_datetime)) % $EVERY_N == 1"
   ]
  },
  {
   "cell_type": "code",
   "execution_count": 4,
   "metadata": {},
   "outputs": [
    {
     "data": {
      "text/html": [
       "<div>\n",
       "<style scoped>\n",
       "    .dataframe tbody tr th:only-of-type {\n",
       "        vertical-align: middle;\n",
       "    }\n",
       "\n",
       "    .dataframe tbody tr th {\n",
       "        vertical-align: top;\n",
       "    }\n",
       "\n",
       "    .dataframe thead th {\n",
       "        text-align: right;\n",
       "    }\n",
       "</style>\n",
       "<table border=\"1\" class=\"dataframe\">\n",
       "  <thead>\n",
       "    <tr style=\"text-align: right;\">\n",
       "      <th></th>\n",
       "      <th>pickup_datetime</th>\n",
       "      <th>pickup_longitude</th>\n",
       "      <th>pickup_latitude</th>\n",
       "      <th>dropoff_longitude</th>\n",
       "      <th>dropoff_latitude</th>\n",
       "      <th>passenger_count</th>\n",
       "      <th>trip_distance</th>\n",
       "      <th>tolls_amount</th>\n",
       "      <th>fare_amount</th>\n",
       "      <th>total_amount</th>\n",
       "    </tr>\n",
       "  </thead>\n",
       "  <tbody>\n",
       "    <tr>\n",
       "      <th>0</th>\n",
       "      <td>2009-05-25 02:10:25</td>\n",
       "      <td>-73.961194</td>\n",
       "      <td>40.812235</td>\n",
       "      <td>-73.961194</td>\n",
       "      <td>40.812235</td>\n",
       "      <td>1</td>\n",
       "      <td>0.00</td>\n",
       "      <td>0.0</td>\n",
       "      <td>2.5</td>\n",
       "      <td>2.5</td>\n",
       "    </tr>\n",
       "    <tr>\n",
       "      <th>1</th>\n",
       "      <td>2009-02-21 17:21:00</td>\n",
       "      <td>-73.938537</td>\n",
       "      <td>40.805273</td>\n",
       "      <td>-73.938518</td>\n",
       "      <td>40.805283</td>\n",
       "      <td>1</td>\n",
       "      <td>0.01</td>\n",
       "      <td>0.0</td>\n",
       "      <td>2.5</td>\n",
       "      <td>2.5</td>\n",
       "    </tr>\n",
       "    <tr>\n",
       "      <th>2</th>\n",
       "      <td>2009-02-16 11:54:00</td>\n",
       "      <td>-73.996622</td>\n",
       "      <td>40.737238</td>\n",
       "      <td>-73.996647</td>\n",
       "      <td>40.737238</td>\n",
       "      <td>1</td>\n",
       "      <td>0.01</td>\n",
       "      <td>0.0</td>\n",
       "      <td>2.5</td>\n",
       "      <td>2.5</td>\n",
       "    </tr>\n",
       "    <tr>\n",
       "      <th>3</th>\n",
       "      <td>2009-07-12 17:15:11</td>\n",
       "      <td>-73.930194</td>\n",
       "      <td>40.811443</td>\n",
       "      <td>-73.930194</td>\n",
       "      <td>40.811443</td>\n",
       "      <td>1</td>\n",
       "      <td>0.00</td>\n",
       "      <td>0.0</td>\n",
       "      <td>2.5</td>\n",
       "      <td>2.5</td>\n",
       "    </tr>\n",
       "    <tr>\n",
       "      <th>4</th>\n",
       "      <td>2009-06-29 15:01:33</td>\n",
       "      <td>-73.987260</td>\n",
       "      <td>40.672743</td>\n",
       "      <td>-73.987260</td>\n",
       "      <td>40.672743</td>\n",
       "      <td>2</td>\n",
       "      <td>0.00</td>\n",
       "      <td>0.0</td>\n",
       "      <td>2.5</td>\n",
       "      <td>2.5</td>\n",
       "    </tr>\n",
       "    <tr>\n",
       "      <th>5</th>\n",
       "      <td>2009-07-18 03:51:53</td>\n",
       "      <td>-73.991514</td>\n",
       "      <td>40.735114</td>\n",
       "      <td>-73.993495</td>\n",
       "      <td>40.735936</td>\n",
       "      <td>1</td>\n",
       "      <td>0.10</td>\n",
       "      <td>0.0</td>\n",
       "      <td>2.5</td>\n",
       "      <td>2.5</td>\n",
       "    </tr>\n",
       "    <tr>\n",
       "      <th>6</th>\n",
       "      <td>2012-09-05 15:45:00</td>\n",
       "      <td>-73.937777</td>\n",
       "      <td>40.758337</td>\n",
       "      <td>-73.937777</td>\n",
       "      <td>40.758337</td>\n",
       "      <td>5</td>\n",
       "      <td>0.00</td>\n",
       "      <td>0.0</td>\n",
       "      <td>2.5</td>\n",
       "      <td>3.0</td>\n",
       "    </tr>\n",
       "    <tr>\n",
       "      <th>7</th>\n",
       "      <td>2014-12-14 08:07:43</td>\n",
       "      <td>-74.002122</td>\n",
       "      <td>40.734998</td>\n",
       "      <td>-74.002121</td>\n",
       "      <td>40.734996</td>\n",
       "      <td>1</td>\n",
       "      <td>0.00</td>\n",
       "      <td>0.0</td>\n",
       "      <td>2.5</td>\n",
       "      <td>3.0</td>\n",
       "    </tr>\n",
       "    <tr>\n",
       "      <th>8</th>\n",
       "      <td>2013-02-13 11:25:20</td>\n",
       "      <td>-73.964851</td>\n",
       "      <td>40.806871</td>\n",
       "      <td>-73.971872</td>\n",
       "      <td>40.753507</td>\n",
       "      <td>1</td>\n",
       "      <td>4.60</td>\n",
       "      <td>0.0</td>\n",
       "      <td>2.5</td>\n",
       "      <td>3.0</td>\n",
       "    </tr>\n",
       "    <tr>\n",
       "      <th>9</th>\n",
       "      <td>2014-08-25 12:43:57</td>\n",
       "      <td>-73.991336</td>\n",
       "      <td>40.750116</td>\n",
       "      <td>-73.978111</td>\n",
       "      <td>40.783059</td>\n",
       "      <td>1</td>\n",
       "      <td>3.50</td>\n",
       "      <td>0.0</td>\n",
       "      <td>2.5</td>\n",
       "      <td>3.0</td>\n",
       "    </tr>\n",
       "  </tbody>\n",
       "</table>\n",
       "</div>"
      ],
      "text/plain": [
       "      pickup_datetime  pickup_longitude  pickup_latitude  dropoff_longitude  \\\n",
       "0 2009-05-25 02:10:25        -73.961194        40.812235         -73.961194   \n",
       "1 2009-02-21 17:21:00        -73.938537        40.805273         -73.938518   \n",
       "2 2009-02-16 11:54:00        -73.996622        40.737238         -73.996647   \n",
       "3 2009-07-12 17:15:11        -73.930194        40.811443         -73.930194   \n",
       "4 2009-06-29 15:01:33        -73.987260        40.672743         -73.987260   \n",
       "5 2009-07-18 03:51:53        -73.991514        40.735114         -73.993495   \n",
       "6 2012-09-05 15:45:00        -73.937777        40.758337         -73.937777   \n",
       "7 2014-12-14 08:07:43        -74.002122        40.734998         -74.002121   \n",
       "8 2013-02-13 11:25:20        -73.964851        40.806871         -73.971872   \n",
       "9 2014-08-25 12:43:57        -73.991336        40.750116         -73.978111   \n",
       "\n",
       "   dropoff_latitude  passenger_count  trip_distance  tolls_amount  \\\n",
       "0         40.812235                1           0.00           0.0   \n",
       "1         40.805283                1           0.01           0.0   \n",
       "2         40.737238                1           0.01           0.0   \n",
       "3         40.811443                1           0.00           0.0   \n",
       "4         40.672743                2           0.00           0.0   \n",
       "5         40.735936                1           0.10           0.0   \n",
       "6         40.758337                5           0.00           0.0   \n",
       "7         40.734996                1           0.00           0.0   \n",
       "8         40.753507                1           4.60           0.0   \n",
       "9         40.783059                1           3.50           0.0   \n",
       "\n",
       "   fare_amount  total_amount  \n",
       "0          2.5           2.5  \n",
       "1          2.5           2.5  \n",
       "2          2.5           2.5  \n",
       "3          2.5           2.5  \n",
       "4          2.5           2.5  \n",
       "5          2.5           2.5  \n",
       "6          2.5           3.0  \n",
       "7          2.5           3.0  \n",
       "8          2.5           3.0  \n",
       "9          2.5           3.0  "
      ]
     },
     "execution_count": 4,
     "metadata": {},
     "output_type": "execute_result"
    }
   ],
   "source": [
    "trips = bq.Query(afewrecords2, EVERY_N=100000).to_dataframe()\n",
    "trips[:10]"
   ]
  },
  {
   "cell_type": "markdown",
   "metadata": {},
   "source": [
    "# What to do with this dataset?\n",
    "\n",
    "* reporting\n",
    "* analytics and exploration\n",
    "* predictive analytics\n",
    "\n",
    "But first we should do some data wrangling to improve the quality of the dataset we work with."
   ]
  },
  {
   "cell_type": "markdown",
   "metadata": {},
   "source": [
    "Let's increase the number of records so that we can do some neat graphs. There is no guarantee about the order in which records are returned, and so no guarantee about which records get returned if we simply increase the LIMIT. To properly sample the dataset, let's use the HASH of the pickup time and return 1 in 100,000 records -- because there are 1 billion records in the data, we should get back approximately 10,000 records if we do this."
   ]
  },
  {
   "cell_type": "markdown",
   "metadata": {},
   "source": [
    "<h3> Exploring data </h3>\n",
    "\n",
    "Let's explore this dataset and clean it up as necessary. We'll use the Python Seaborn package to visualize graphs and Pandas to do the slicing and filtering."
   ]
  },
  {
   "cell_type": "code",
   "execution_count": 5,
   "metadata": {},
   "outputs": [
    {
     "data": {
      "image/png": "[encoded data removed]",
      "text/plain": [
       "<matplotlib.figure.Figure at 0x7f12b6533910>"
      ]
     },
     "metadata": {},
     "output_type": "display_data"
    }
   ],
   "source": [
    "fig, ax = plt.subplots()\n",
    "fig.set_size_inches(15, 10)\n",
    "ax = sns.regplot(x=\"trip_distance\", y=\"fare_amount\", fit_reg=False, ci=None, truncate=True, data=trips)"
   ]
  },
  {
   "cell_type": "markdown",
   "metadata": {},
   "source": [
    "Hmm ... do you see something wrong with the data that needs addressing?\n",
    "\n",
    "It appears that we have a lot of invalid data that is being coded as zero distance and some fare amounts that are definitely illegitimate. Let's remove them from our analysis. We can do this by modifying the BigQuery query to keep only trips longer than zero miles and fare amounts that are at least the minimum cab fare ($2.50).\n",
    "\n",
    "Note the extra WHERE clauses."
   ]
  },
  {
   "cell_type": "code",
   "execution_count": 6,
   "metadata": {},
   "outputs": [],
   "source": [
    "%sql --module afewrecords3\n",
    "SELECT\n",
    "  pickup_datetime,\n",
    "  pickup_longitude, pickup_latitude, \n",
    "  dropoff_longitude, dropoff_latitude,\n",
    "  passenger_count,\n",
    "  trip_distance,\n",
    "  tolls_amount,\n",
    "  fare_amount,\n",
    "  total_amount\n",
    "FROM\n",
    "  [nyc-tlc:yellow.trips]\n",
    "WHERE\n",
    "  (ABS(HASH(pickup_datetime)) % $EVERY_N == 1 AND\n",
    "  trip_distance > 0 AND fare_amount >= 2.5 AND fare_amount <120)"
   ]
  },
  {
   "cell_type": "code",
   "execution_count": 8,
   "metadata": {},
   "outputs": [
    {
     "data": {
      "image/png": "[encoded data removed]",
      "text/plain": [
       "<matplotlib.figure.Figure at 0x7f956421f0d0>"
      ]
     },
     "metadata": {},
     "output_type": "display_data"
    }
   ],
   "source": [
    "trips = bq.Query(afewrecords3, EVERY_N=100000).to_dataframe()\n",
    "fig, ax = plt.subplots()\n",
    "fig.set_size_inches(15, 10)\n",
    "ax = sns.regplot(x=\"trip_distance\", y=\"fare_amount\", fit_reg=False, ci=None, truncate=True, data=trips)"
   ]
  },
  {
   "cell_type": "markdown",
   "metadata": {},
   "source": [
    "What's up with the streaks at <span>$</span>45 and \\$50?  Those are fixed-amount rides from JFK into anywhere in Manhattan, i.e. to be expected. Let's list the data to make sure the values look reasonable.\n",
    "\n",
    "Let's examine whether the toll amount is captured in the total amount."
   ]
  },
  {
   "cell_type": "code",
   "execution_count": 7,
   "metadata": {},
   "outputs": [
    {
     "data": {
      "text/html": [
       "<div>\n",
       "<style scoped>\n",
       "    .dataframe tbody tr th:only-of-type {\n",
       "        vertical-align: middle;\n",
       "    }\n",
       "\n",
       "    .dataframe tbody tr th {\n",
       "        vertical-align: top;\n",
       "    }\n",
       "\n",
       "    .dataframe thead th {\n",
       "        text-align: right;\n",
       "    }\n",
       "</style>\n",
       "<table border=\"1\" class=\"dataframe\">\n",
       "  <thead>\n",
       "    <tr style=\"text-align: right;\">\n",
       "      <th></th>\n",
       "      <th>pickup_datetime</th>\n",
       "      <th>pickup_longitude</th>\n",
       "      <th>pickup_latitude</th>\n",
       "      <th>dropoff_longitude</th>\n",
       "      <th>dropoff_latitude</th>\n",
       "      <th>passenger_count</th>\n",
       "      <th>trip_distance</th>\n",
       "      <th>tolls_amount</th>\n",
       "      <th>fare_amount</th>\n",
       "      <th>total_amount</th>\n",
       "    </tr>\n",
       "  </thead>\n",
       "  <tbody>\n",
       "    <tr>\n",
       "      <th>5591</th>\n",
       "      <td>2012-09-05 15:45:00</td>\n",
       "      <td>-73.873162</td>\n",
       "      <td>40.774097</td>\n",
       "      <td>-73.958280</td>\n",
       "      <td>40.760662</td>\n",
       "      <td>3</td>\n",
       "      <td>8.99</td>\n",
       "      <td>4.8</td>\n",
       "      <td>27.0</td>\n",
       "      <td>37.7</td>\n",
       "    </tr>\n",
       "    <tr>\n",
       "      <th>5608</th>\n",
       "      <td>2012-09-05 15:45:00</td>\n",
       "      <td>-73.872895</td>\n",
       "      <td>40.774047</td>\n",
       "      <td>-73.986535</td>\n",
       "      <td>40.745427</td>\n",
       "      <td>6</td>\n",
       "      <td>8.57</td>\n",
       "      <td>4.8</td>\n",
       "      <td>28.0</td>\n",
       "      <td>38.9</td>\n",
       "    </tr>\n",
       "    <tr>\n",
       "      <th>5609</th>\n",
       "      <td>2012-09-05 15:45:00</td>\n",
       "      <td>-73.977048</td>\n",
       "      <td>40.759600</td>\n",
       "      <td>-73.870900</td>\n",
       "      <td>40.774055</td>\n",
       "      <td>1</td>\n",
       "      <td>9.54</td>\n",
       "      <td>4.8</td>\n",
       "      <td>28.0</td>\n",
       "      <td>40.3</td>\n",
       "    </tr>\n",
       "    <tr>\n",
       "      <th>5647</th>\n",
       "      <td>2012-09-05 15:45:00</td>\n",
       "      <td>-73.961938</td>\n",
       "      <td>40.773337</td>\n",
       "      <td>-73.865820</td>\n",
       "      <td>40.769607</td>\n",
       "      <td>1</td>\n",
       "      <td>10.95</td>\n",
       "      <td>4.8</td>\n",
       "      <td>32.0</td>\n",
       "      <td>46.9</td>\n",
       "    </tr>\n",
       "    <tr>\n",
       "      <th>5666</th>\n",
       "      <td>2012-09-05 15:45:00</td>\n",
       "      <td>-73.974837</td>\n",
       "      <td>40.758055</td>\n",
       "      <td>-73.885452</td>\n",
       "      <td>40.773130</td>\n",
       "      <td>1</td>\n",
       "      <td>11.77</td>\n",
       "      <td>4.8</td>\n",
       "      <td>34.0</td>\n",
       "      <td>46.1</td>\n",
       "    </tr>\n",
       "    <tr>\n",
       "      <th>5670</th>\n",
       "      <td>2012-09-05 15:45:00</td>\n",
       "      <td>-73.874480</td>\n",
       "      <td>40.774107</td>\n",
       "      <td>-73.984985</td>\n",
       "      <td>40.768672</td>\n",
       "      <td>1</td>\n",
       "      <td>11.44</td>\n",
       "      <td>4.8</td>\n",
       "      <td>38.0</td>\n",
       "      <td>43.3</td>\n",
       "    </tr>\n",
       "    <tr>\n",
       "      <th>5762</th>\n",
       "      <td>2012-09-05 15:45:00</td>\n",
       "      <td>-73.781918</td>\n",
       "      <td>40.644722</td>\n",
       "      <td>-73.985535</td>\n",
       "      <td>40.763272</td>\n",
       "      <td>1</td>\n",
       "      <td>18.64</td>\n",
       "      <td>4.8</td>\n",
       "      <td>52.0</td>\n",
       "      <td>57.3</td>\n",
       "    </tr>\n",
       "    <tr>\n",
       "      <th>5784</th>\n",
       "      <td>2012-09-05 15:45:00</td>\n",
       "      <td>-73.776752</td>\n",
       "      <td>40.645120</td>\n",
       "      <td>-73.947410</td>\n",
       "      <td>40.776887</td>\n",
       "      <td>1</td>\n",
       "      <td>19.17</td>\n",
       "      <td>4.8</td>\n",
       "      <td>52.0</td>\n",
       "      <td>67.7</td>\n",
       "    </tr>\n",
       "    <tr>\n",
       "      <th>5800</th>\n",
       "      <td>2012-09-05 15:45:00</td>\n",
       "      <td>-73.977698</td>\n",
       "      <td>40.765995</td>\n",
       "      <td>-74.179125</td>\n",
       "      <td>40.688890</td>\n",
       "      <td>1</td>\n",
       "      <td>17.72</td>\n",
       "      <td>9.5</td>\n",
       "      <td>68.5</td>\n",
       "      <td>78.0</td>\n",
       "    </tr>\n",
       "    <tr>\n",
       "      <th>5808</th>\n",
       "      <td>2012-09-05 15:45:00</td>\n",
       "      <td>-73.862842</td>\n",
       "      <td>40.769097</td>\n",
       "      <td>-73.864235</td>\n",
       "      <td>40.842857</td>\n",
       "      <td>1</td>\n",
       "      <td>11.47</td>\n",
       "      <td>4.8</td>\n",
       "      <td>32.5</td>\n",
       "      <td>37.8</td>\n",
       "    </tr>\n",
       "    <tr>\n",
       "      <th>5809</th>\n",
       "      <td>2012-09-05 15:45:00</td>\n",
       "      <td>-73.975092</td>\n",
       "      <td>40.755135</td>\n",
       "      <td>-73.864133</td>\n",
       "      <td>40.767993</td>\n",
       "      <td>3</td>\n",
       "      <td>11.25</td>\n",
       "      <td>4.8</td>\n",
       "      <td>32.5</td>\n",
       "      <td>37.8</td>\n",
       "    </tr>\n",
       "    <tr>\n",
       "      <th>6264</th>\n",
       "      <td>2012-09-05 15:45:00</td>\n",
       "      <td>-73.976282</td>\n",
       "      <td>40.751292</td>\n",
       "      <td>-73.872445</td>\n",
       "      <td>40.774442</td>\n",
       "      <td>1</td>\n",
       "      <td>8.66</td>\n",
       "      <td>4.8</td>\n",
       "      <td>24.5</td>\n",
       "      <td>33.1</td>\n",
       "    </tr>\n",
       "    <tr>\n",
       "      <th>6518</th>\n",
       "      <td>2012-09-05 15:45:00</td>\n",
       "      <td>-73.993160</td>\n",
       "      <td>40.758052</td>\n",
       "      <td>-73.937263</td>\n",
       "      <td>40.588857</td>\n",
       "      <td>3</td>\n",
       "      <td>19.32</td>\n",
       "      <td>4.8</td>\n",
       "      <td>53.0</td>\n",
       "      <td>68.9</td>\n",
       "    </tr>\n",
       "  </tbody>\n",
       "</table>\n",
       "</div>"
      ],
      "text/plain": [
       "         pickup_datetime  pickup_longitude  pickup_latitude  \\\n",
       "5591 2012-09-05 15:45:00        -73.873162        40.774097   \n",
       "5608 2012-09-05 15:45:00        -73.872895        40.774047   \n",
       "5609 2012-09-05 15:45:00        -73.977048        40.759600   \n",
       "5647 2012-09-05 15:45:00        -73.961938        40.773337   \n",
       "5666 2012-09-05 15:45:00        -73.974837        40.758055   \n",
       "5670 2012-09-05 15:45:00        -73.874480        40.774107   \n",
       "5762 2012-09-05 15:45:00        -73.781918        40.644722   \n",
       "5784 2012-09-05 15:45:00        -73.776752        40.645120   \n",
       "5800 2012-09-05 15:45:00        -73.977698        40.765995   \n",
       "5808 2012-09-05 15:45:00        -73.862842        40.769097   \n",
       "5809 2012-09-05 15:45:00        -73.975092        40.755135   \n",
       "6264 2012-09-05 15:45:00        -73.976282        40.751292   \n",
       "6518 2012-09-05 15:45:00        -73.993160        40.758052   \n",
       "\n",
       "      dropoff_longitude  dropoff_latitude  passenger_count  trip_distance  \\\n",
       "5591         -73.958280         40.760662                3           8.99   \n",
       "5608         -73.986535         40.745427                6           8.57   \n",
       "5609         -73.870900         40.774055                1           9.54   \n",
       "5647         -73.865820         40.769607                1          10.95   \n",
       "5666         -73.885452         40.773130                1          11.77   \n",
       "5670         -73.984985         40.768672                1          11.44   \n",
       "5762         -73.985535         40.763272                1          18.64   \n",
       "5784         -73.947410         40.776887                1          19.17   \n",
       "5800         -74.179125         40.688890                1          17.72   \n",
       "5808         -73.864235         40.842857                1          11.47   \n",
       "5809         -73.864133         40.767993                3          11.25   \n",
       "6264         -73.872445         40.774442                1           8.66   \n",
       "6518         -73.937263         40.588857                3          19.32   \n",
       "\n",
       "      tolls_amount  fare_amount  total_amount  \n",
       "5591           4.8         27.0          37.7  \n",
       "5608           4.8         28.0          38.9  \n",
       "5609           4.8         28.0          40.3  \n",
       "5647           4.8         32.0          46.9  \n",
       "5666           4.8         34.0          46.1  \n",
       "5670           4.8         38.0          43.3  \n",
       "5762           4.8         52.0          57.3  \n",
       "5784           4.8         52.0          67.7  \n",
       "5800           9.5         68.5          78.0  \n",
       "5808           4.8         32.5          37.8  \n",
       "5809           4.8         32.5          37.8  \n",
       "6264           4.8         24.5          33.1  \n",
       "6518           4.8         53.0          68.9  "
      ]
     },
     "execution_count": 7,
     "metadata": {},
     "output_type": "execute_result"
    }
   ],
   "source": [
    "tollrides = trips[trips['tolls_amount'] > 0]\n",
    "tollrides[tollrides['pickup_datetime'] == '2012-09-05 15:45:00']"
   ]
  },
  {
   "cell_type": "markdown",
   "metadata": {},
   "source": [
    "Looking a few samples above, it should be clear that the total amount reflects fare amount, toll and tip somewhat arbitrarily -- this is because when customers pay cash, the tip is not known.  So, we'll use the sum of fare_amount + tolls_amount as what needs to be predicted.  Tips are discretionary and do not have to be included in our fare estimation tool.\n",
    "\n",
    "Let's also look at the distribution of values within the columns."
   ]
  },
  {
   "cell_type": "code",
   "execution_count": 8,
   "metadata": {},
   "outputs": [
    {
     "data": {
      "text/html": [
       "<div>\n",
       "<style scoped>\n",
       "    .dataframe tbody tr th:only-of-type {\n",
       "        vertical-align: middle;\n",
       "    }\n",
       "\n",
       "    .dataframe tbody tr th {\n",
       "        vertical-align: top;\n",
       "    }\n",
       "\n",
       "    .dataframe thead th {\n",
       "        text-align: right;\n",
       "    }\n",
       "</style>\n",
       "<table border=\"1\" class=\"dataframe\">\n",
       "  <thead>\n",
       "    <tr style=\"text-align: right;\">\n",
       "      <th></th>\n",
       "      <th>pickup_longitude</th>\n",
       "      <th>pickup_latitude</th>\n",
       "      <th>dropoff_longitude</th>\n",
       "      <th>dropoff_latitude</th>\n",
       "      <th>passenger_count</th>\n",
       "      <th>trip_distance</th>\n",
       "      <th>tolls_amount</th>\n",
       "      <th>fare_amount</th>\n",
       "      <th>total_amount</th>\n",
       "    </tr>\n",
       "  </thead>\n",
       "  <tbody>\n",
       "    <tr>\n",
       "      <th>count</th>\n",
       "      <td>11482.000000</td>\n",
       "      <td>11482.000000</td>\n",
       "      <td>11482.000000</td>\n",
       "      <td>11482.000000</td>\n",
       "      <td>11482.000000</td>\n",
       "      <td>11482.000000</td>\n",
       "      <td>11482.000000</td>\n",
       "      <td>11482.000000</td>\n",
       "      <td>11482.000000</td>\n",
       "    </tr>\n",
       "    <tr>\n",
       "      <th>mean</th>\n",
       "      <td>-72.473358</td>\n",
       "      <td>39.590419</td>\n",
       "      <td>-72.344668</td>\n",
       "      <td>39.836098</td>\n",
       "      <td>1.721216</td>\n",
       "      <td>2.818347</td>\n",
       "      <td>0.227488</td>\n",
       "      <td>11.119453</td>\n",
       "      <td>13.186110</td>\n",
       "    </tr>\n",
       "    <tr>\n",
       "      <th>std</th>\n",
       "      <td>18.599171</td>\n",
       "      <td>28.042188</td>\n",
       "      <td>11.742608</td>\n",
       "      <td>7.432417</td>\n",
       "      <td>1.343419</td>\n",
       "      <td>3.265863</td>\n",
       "      <td>1.106589</td>\n",
       "      <td>9.536000</td>\n",
       "      <td>11.369106</td>\n",
       "    </tr>\n",
       "    <tr>\n",
       "      <th>min</th>\n",
       "      <td>-1687.399757</td>\n",
       "      <td>-2895.273900</td>\n",
       "      <td>-74.417107</td>\n",
       "      <td>-444.385228</td>\n",
       "      <td>0.000000</td>\n",
       "      <td>0.000000</td>\n",
       "      <td>0.000000</td>\n",
       "      <td>-27.000000</td>\n",
       "      <td>-27.000000</td>\n",
       "    </tr>\n",
       "    <tr>\n",
       "      <th>25%</th>\n",
       "      <td>-73.992085</td>\n",
       "      <td>40.735350</td>\n",
       "      <td>-73.991577</td>\n",
       "      <td>40.733622</td>\n",
       "      <td>1.000000</td>\n",
       "      <td>1.000000</td>\n",
       "      <td>0.000000</td>\n",
       "      <td>6.000000</td>\n",
       "      <td>7.100000</td>\n",
       "    </tr>\n",
       "    <tr>\n",
       "      <th>50%</th>\n",
       "      <td>-73.981643</td>\n",
       "      <td>40.753025</td>\n",
       "      <td>-73.980335</td>\n",
       "      <td>40.753262</td>\n",
       "      <td>1.000000</td>\n",
       "      <td>1.720000</td>\n",
       "      <td>0.000000</td>\n",
       "      <td>8.150000</td>\n",
       "      <td>9.880000</td>\n",
       "    </tr>\n",
       "    <tr>\n",
       "      <th>75%</th>\n",
       "      <td>-73.966594</td>\n",
       "      <td>40.767720</td>\n",
       "      <td>-73.964106</td>\n",
       "      <td>40.768268</td>\n",
       "      <td>2.000000</td>\n",
       "      <td>3.130000</td>\n",
       "      <td>0.000000</td>\n",
       "      <td>12.500000</td>\n",
       "      <td>14.500000</td>\n",
       "    </tr>\n",
       "    <tr>\n",
       "      <th>max</th>\n",
       "      <td>0.009137</td>\n",
       "      <td>41.366138</td>\n",
       "      <td>443.321210</td>\n",
       "      <td>41.366138</td>\n",
       "      <td>6.000000</td>\n",
       "      <td>30.600000</td>\n",
       "      <td>19.500000</td>\n",
       "      <td>350.000000</td>\n",
       "      <td>370.000000</td>\n",
       "    </tr>\n",
       "  </tbody>\n",
       "</table>\n",
       "</div>"
      ],
      "text/plain": [
       "       pickup_longitude  pickup_latitude  dropoff_longitude  dropoff_latitude  \\\n",
       "count      11482.000000     11482.000000       11482.000000      11482.000000   \n",
       "mean         -72.473358        39.590419         -72.344668         39.836098   \n",
       "std           18.599171        28.042188          11.742608          7.432417   \n",
       "min        -1687.399757     -2895.273900         -74.417107       -444.385228   \n",
       "25%          -73.992085        40.735350         -73.991577         40.733622   \n",
       "50%          -73.981643        40.753025         -73.980335         40.753262   \n",
       "75%          -73.966594        40.767720         -73.964106         40.768268   \n",
       "max            0.009137        41.366138         443.321210         41.366138   \n",
       "\n",
       "       passenger_count  trip_distance  tolls_amount   fare_amount  \\\n",
       "count     11482.000000   11482.000000  11482.000000  11482.000000   \n",
       "mean          1.721216       2.818347      0.227488     11.119453   \n",
       "std           1.343419       3.265863      1.106589      9.536000   \n",
       "min           0.000000       0.000000      0.000000    -27.000000   \n",
       "25%           1.000000       1.000000      0.000000      6.000000   \n",
       "50%           1.000000       1.720000      0.000000      8.150000   \n",
       "75%           2.000000       3.130000      0.000000     12.500000   \n",
       "max           6.000000      30.600000     19.500000    350.000000   \n",
       "\n",
       "       total_amount  \n",
       "count  11482.000000  \n",
       "mean      13.186110  \n",
       "std       11.369106  \n",
       "min      -27.000000  \n",
       "25%        7.100000  \n",
       "50%        9.880000  \n",
       "75%       14.500000  \n",
       "max      370.000000  "
      ]
     },
     "execution_count": 8,
     "metadata": {},
     "output_type": "execute_result"
    }
   ],
   "source": [
    "trips.describe()"
   ]
  },
  {
   "cell_type": "markdown",
   "metadata": {},
   "source": [
    "<h3> Quality control and other preprocessing </h3>\n",
    "\n",
    "We need to some clean-up of the data:\n",
    "<ol>\n",
    "<li>New York city longitudes are around -74 and latitudes are around 41.</li>\n",
    "<li>We shouldn't have zero passengers.</li>\n",
    "<li>Clean up the total_amount column to reflect only fare_amount and tolls_amount, and then remove those two columns.</li>\n",
    "<li>Before the ride starts, we'll know the pickup and dropoff locations, but not the trip distance (that depends on the route taken), so remove it from the ML dataset</li>\n",
    "<li>Discard the timestamp</li>\n",
    "</ol>\n",
    "\n",
    "We could do preprocessing in SQL, similar to how we removed the zero-distance rides, but just to show you another option, let's do this in Python.  In production, we'll have to carry out the same preprocessing on the real-time input data. \n",
    "\n",
    "This sort of preprocessing of input data is quite common in ML, especially if the quality-control is dynamic."
   ]
  },
  {
   "cell_type": "code",
   "execution_count": 9,
   "metadata": {},
   "outputs": [
    {
     "data": {
      "text/html": [
       "<div>\n",
       "<style scoped>\n",
       "    .dataframe tbody tr th:only-of-type {\n",
       "        vertical-align: middle;\n",
       "    }\n",
       "\n",
       "    .dataframe tbody tr th {\n",
       "        vertical-align: top;\n",
       "    }\n",
       "\n",
       "    .dataframe thead th {\n",
       "        text-align: right;\n",
       "    }\n",
       "</style>\n",
       "<table border=\"1\" class=\"dataframe\">\n",
       "  <thead>\n",
       "    <tr style=\"text-align: right;\">\n",
       "      <th></th>\n",
       "      <th>pickup_longitude</th>\n",
       "      <th>pickup_latitude</th>\n",
       "      <th>dropoff_longitude</th>\n",
       "      <th>dropoff_latitude</th>\n",
       "      <th>passenger_count</th>\n",
       "      <th>fare_amount</th>\n",
       "    </tr>\n",
       "  </thead>\n",
       "  <tbody>\n",
       "    <tr>\n",
       "      <th>count</th>\n",
       "      <td>105335.000000</td>\n",
       "      <td>105335.000000</td>\n",
       "      <td>105335.000000</td>\n",
       "      <td>105335.000000</td>\n",
       "      <td>105335.000000</td>\n",
       "      <td>105335.000000</td>\n",
       "    </tr>\n",
       "    <tr>\n",
       "      <th>mean</th>\n",
       "      <td>-73.975261</td>\n",
       "      <td>40.751271</td>\n",
       "      <td>-73.974363</td>\n",
       "      <td>40.751657</td>\n",
       "      <td>1.676660</td>\n",
       "      <td>11.274427</td>\n",
       "    </tr>\n",
       "    <tr>\n",
       "      <th>std</th>\n",
       "      <td>0.040940</td>\n",
       "      <td>0.032882</td>\n",
       "      <td>0.039201</td>\n",
       "      <td>0.036926</td>\n",
       "      <td>1.290883</td>\n",
       "      <td>9.384679</td>\n",
       "    </tr>\n",
       "    <tr>\n",
       "      <th>min</th>\n",
       "      <td>-77.548270</td>\n",
       "      <td>37.505027</td>\n",
       "      <td>-77.528977</td>\n",
       "      <td>37.518858</td>\n",
       "      <td>1.000000</td>\n",
       "      <td>2.500000</td>\n",
       "    </tr>\n",
       "    <tr>\n",
       "      <th>25%</th>\n",
       "      <td>-73.992197</td>\n",
       "      <td>40.736891</td>\n",
       "      <td>-73.991502</td>\n",
       "      <td>40.736320</td>\n",
       "      <td>1.000000</td>\n",
       "      <td>6.000000</td>\n",
       "    </tr>\n",
       "    <tr>\n",
       "      <th>50%</th>\n",
       "      <td>-73.982033</td>\n",
       "      <td>40.753752</td>\n",
       "      <td>-73.980578</td>\n",
       "      <td>40.754292</td>\n",
       "      <td>1.000000</td>\n",
       "      <td>8.500000</td>\n",
       "    </tr>\n",
       "    <tr>\n",
       "      <th>75%</th>\n",
       "      <td>-73.968257</td>\n",
       "      <td>40.767753</td>\n",
       "      <td>-73.965515</td>\n",
       "      <td>40.768642</td>\n",
       "      <td>2.000000</td>\n",
       "      <td>12.500000</td>\n",
       "    </tr>\n",
       "    <tr>\n",
       "      <th>max</th>\n",
       "      <td>-72.910408</td>\n",
       "      <td>41.591743</td>\n",
       "      <td>-72.907598</td>\n",
       "      <td>43.703950</td>\n",
       "      <td>6.000000</td>\n",
       "      <td>133.080000</td>\n",
       "    </tr>\n",
       "  </tbody>\n",
       "</table>\n",
       "</div>"
      ],
      "text/plain": [
       "       pickup_longitude  pickup_latitude  dropoff_longitude  dropoff_latitude  \\\n",
       "count     105335.000000    105335.000000      105335.000000     105335.000000   \n",
       "mean         -73.975261        40.751271         -73.974363         40.751657   \n",
       "std            0.040940         0.032882           0.039201          0.036926   \n",
       "min          -77.548270        37.505027         -77.528977         37.518858   \n",
       "25%          -73.992197        40.736891         -73.991502         40.736320   \n",
       "50%          -73.982033        40.753752         -73.980578         40.754292   \n",
       "75%          -73.968257        40.767753         -73.965515         40.768642   \n",
       "max          -72.910408        41.591743         -72.907598         43.703950   \n",
       "\n",
       "       passenger_count    fare_amount  \n",
       "count    105335.000000  105335.000000  \n",
       "mean          1.676660      11.274427  \n",
       "std           1.290883       9.384679  \n",
       "min           1.000000       2.500000  \n",
       "25%           1.000000       6.000000  \n",
       "50%           1.000000       8.500000  \n",
       "75%           2.000000      12.500000  \n",
       "max           6.000000     133.080000  "
      ]
     },
     "execution_count": 9,
     "metadata": {},
     "output_type": "execute_result"
    }
   ],
   "source": [
    "def preprocess(trips_in):\n",
    "  trips = trips_in.copy(deep=True)\n",
    "  trips.fare_amount = trips.fare_amount + trips.tolls_amount\n",
    "  del trips['tolls_amount']\n",
    "  del trips['total_amount']\n",
    "  del trips['trip_distance']\n",
    "  del trips['pickup_datetime']\n",
    "  qc = np.all([\\\n",
    "             trips['pickup_longitude'] > -78, \\\n",
    "             trips['pickup_longitude'] < -70, \\\n",
    "             trips['dropoff_longitude'] > -78, \\\n",
    "             trips['dropoff_longitude'] < -70, \\\n",
    "             trips['pickup_latitude'] > 37, \\\n",
    "             trips['pickup_latitude'] < 45, \\\n",
    "             trips['dropoff_latitude'] > 37, \\\n",
    "             trips['dropoff_latitude'] < 45, \\\n",
    "             trips['passenger_count'] > 0,\n",
    "            ], axis=0)\n",
    "  return trips[qc]\n",
    "\n",
    "trips = bq.Query(afewrecords3, EVERY_N=10000).to_dataframe()\n",
    "\n",
    "tripsqc = preprocess(trips)\n",
    "tripsqc.describe()"
   ]
  },
  {
   "cell_type": "markdown",
   "metadata": {},
   "source": [
    "# scoring of accuracy\n",
    "\n",
    "To compare the quality of different models we have to come up with a way to express the overall accuracy of a model. To do that we will run predictions against the same test training set and compare our predictions agains the known correct values. A simple way to aggregate all individual deviations or errors is the Root Mean Squared Error (RMSE). The calculation is\n",
    "\n",
    "![rmse_formula](https://wikimedia.org/api/rest_v1/media/math/render/svg/eeb88fa0f90448e9d1a67cd7a70164f674aeb300 \"RMSE formula\")\n",
    "\n",
    "The benefit of RMSE is that it is easy to calculate and the result is expressed in the same unit as the predicted label. Throughout the training phase(s) the model will \"fit\" against the training set. We can calculate the RMSE of a model against the training set but it will usually be biased to be too optimistic as the model might be suffering from overfitting, that is it might be good at \"remembering\" certain outcomes in the test data or handle it's specific quirks but then underperform against real life data.\n",
    "That's why it is necessary to evaluate the performance of a model against a validation set. More sophisticated ML models and neural networks have many parameters that can be tuned either by an engineer or the training process itself. In those cases, each iteration of a model training would check the results against the validation set, adjust a parameter, then retrain and see if the new parameter value improved or regressed the model's performance.\n",
    "\n",
    "There are many options for choosing loss functions and they can have a significant impact on the performance of trained ML models. "
   ]
  },
  {
   "cell_type": "markdown",
   "metadata": {},
   "source": [
    "<h3> Create ML datasets </h3>\n",
    "\n",
    "Let's split the QCed data randomly into training and validation sets."
   ]
  },
  {
   "cell_type": "code",
   "execution_count": 10,
   "metadata": {},
   "outputs": [],
   "source": [
    "shuffled = tripsqc.sample(frac=1)\n",
    "trainsize = int(len(shuffled['fare_amount']) * 0.80)\n",
    "validsize = int(len(shuffled['fare_amount']) * 0.20)\n",
    "\n",
    "\n",
    "df_train = shuffled.iloc[:trainsize, :]\n",
    "df_valid = shuffled.iloc[trainsize:(trainsize+validsize), :]"
   ]
  },
  {
   "cell_type": "code",
   "execution_count": 11,
   "metadata": {},
   "outputs": [
    {
     "data": {
      "text/html": [
       "<div>\n",
       "<style scoped>\n",
       "    .dataframe tbody tr th:only-of-type {\n",
       "        vertical-align: middle;\n",
       "    }\n",
       "\n",
       "    .dataframe tbody tr th {\n",
       "        vertical-align: top;\n",
       "    }\n",
       "\n",
       "    .dataframe thead th {\n",
       "        text-align: right;\n",
       "    }\n",
       "</style>\n",
       "<table border=\"1\" class=\"dataframe\">\n",
       "  <thead>\n",
       "    <tr style=\"text-align: right;\">\n",
       "      <th></th>\n",
       "      <th>pickup_longitude</th>\n",
       "      <th>pickup_latitude</th>\n",
       "      <th>dropoff_longitude</th>\n",
       "      <th>dropoff_latitude</th>\n",
       "      <th>passenger_count</th>\n",
       "      <th>fare_amount</th>\n",
       "    </tr>\n",
       "  </thead>\n",
       "  <tbody>\n",
       "    <tr>\n",
       "      <th>count</th>\n",
       "      <td>84268.000000</td>\n",
       "      <td>84268.000000</td>\n",
       "      <td>84268.000000</td>\n",
       "      <td>84268.000000</td>\n",
       "      <td>84268.000000</td>\n",
       "      <td>84268.000000</td>\n",
       "    </tr>\n",
       "    <tr>\n",
       "      <th>mean</th>\n",
       "      <td>-73.975163</td>\n",
       "      <td>40.751266</td>\n",
       "      <td>-73.974245</td>\n",
       "      <td>40.751713</td>\n",
       "      <td>1.676069</td>\n",
       "      <td>11.300105</td>\n",
       "    </tr>\n",
       "    <tr>\n",
       "      <th>std</th>\n",
       "      <td>0.038268</td>\n",
       "      <td>0.032193</td>\n",
       "      <td>0.037422</td>\n",
       "      <td>0.035122</td>\n",
       "      <td>1.289972</td>\n",
       "      <td>9.408577</td>\n",
       "    </tr>\n",
       "    <tr>\n",
       "      <th>min</th>\n",
       "      <td>-75.269110</td>\n",
       "      <td>37.505027</td>\n",
       "      <td>-74.809005</td>\n",
       "      <td>37.524068</td>\n",
       "      <td>1.000000</td>\n",
       "      <td>2.500000</td>\n",
       "    </tr>\n",
       "    <tr>\n",
       "      <th>25%</th>\n",
       "      <td>-73.992194</td>\n",
       "      <td>40.736904</td>\n",
       "      <td>-73.991463</td>\n",
       "      <td>40.736383</td>\n",
       "      <td>1.000000</td>\n",
       "      <td>6.000000</td>\n",
       "    </tr>\n",
       "    <tr>\n",
       "      <th>50%</th>\n",
       "      <td>-73.982018</td>\n",
       "      <td>40.753802</td>\n",
       "      <td>-73.980534</td>\n",
       "      <td>40.754373</td>\n",
       "      <td>1.000000</td>\n",
       "      <td>8.500000</td>\n",
       "    </tr>\n",
       "    <tr>\n",
       "      <th>75%</th>\n",
       "      <td>-73.968255</td>\n",
       "      <td>40.767714</td>\n",
       "      <td>-73.965403</td>\n",
       "      <td>40.768755</td>\n",
       "      <td>2.000000</td>\n",
       "      <td>12.500000</td>\n",
       "    </tr>\n",
       "    <tr>\n",
       "      <th>max</th>\n",
       "      <td>-73.137393</td>\n",
       "      <td>41.591743</td>\n",
       "      <td>-73.137393</td>\n",
       "      <td>41.587082</td>\n",
       "      <td>6.000000</td>\n",
       "      <td>129.300000</td>\n",
       "    </tr>\n",
       "  </tbody>\n",
       "</table>\n",
       "</div>"
      ],
      "text/plain": [
       "       pickup_longitude  pickup_latitude  dropoff_longitude  dropoff_latitude  \\\n",
       "count      84268.000000     84268.000000       84268.000000      84268.000000   \n",
       "mean         -73.975163        40.751266         -73.974245         40.751713   \n",
       "std            0.038268         0.032193           0.037422          0.035122   \n",
       "min          -75.269110        37.505027         -74.809005         37.524068   \n",
       "25%          -73.992194        40.736904         -73.991463         40.736383   \n",
       "50%          -73.982018        40.753802         -73.980534         40.754373   \n",
       "75%          -73.968255        40.767714         -73.965403         40.768755   \n",
       "max          -73.137393        41.591743         -73.137393         41.587082   \n",
       "\n",
       "       passenger_count   fare_amount  \n",
       "count     84268.000000  84268.000000  \n",
       "mean          1.676069     11.300105  \n",
       "std           1.289972      9.408577  \n",
       "min           1.000000      2.500000  \n",
       "25%           1.000000      6.000000  \n",
       "50%           1.000000      8.500000  \n",
       "75%           2.000000     12.500000  \n",
       "max           6.000000    129.300000  "
      ]
     },
     "execution_count": 11,
     "metadata": {},
     "output_type": "execute_result"
    }
   ],
   "source": [
    "df_train.describe()"
   ]
  },
  {
   "cell_type": "code",
   "execution_count": 12,
   "metadata": {},
   "outputs": [
    {
     "data": {
      "text/html": [
       "<div>\n",
       "<style scoped>\n",
       "    .dataframe tbody tr th:only-of-type {\n",
       "        vertical-align: middle;\n",
       "    }\n",
       "\n",
       "    .dataframe tbody tr th {\n",
       "        vertical-align: top;\n",
       "    }\n",
       "\n",
       "    .dataframe thead th {\n",
       "        text-align: right;\n",
       "    }\n",
       "</style>\n",
       "<table border=\"1\" class=\"dataframe\">\n",
       "  <thead>\n",
       "    <tr style=\"text-align: right;\">\n",
       "      <th></th>\n",
       "      <th>pickup_longitude</th>\n",
       "      <th>pickup_latitude</th>\n",
       "      <th>dropoff_longitude</th>\n",
       "      <th>dropoff_latitude</th>\n",
       "      <th>passenger_count</th>\n",
       "      <th>fare_amount</th>\n",
       "    </tr>\n",
       "  </thead>\n",
       "  <tbody>\n",
       "    <tr>\n",
       "      <th>count</th>\n",
       "      <td>21067.000000</td>\n",
       "      <td>21067.000000</td>\n",
       "      <td>21067.000000</td>\n",
       "      <td>21067.000000</td>\n",
       "      <td>21067.000000</td>\n",
       "      <td>21067.000000</td>\n",
       "    </tr>\n",
       "    <tr>\n",
       "      <th>mean</th>\n",
       "      <td>-73.975651</td>\n",
       "      <td>40.751291</td>\n",
       "      <td>-73.974836</td>\n",
       "      <td>40.751431</td>\n",
       "      <td>1.679024</td>\n",
       "      <td>11.171715</td>\n",
       "    </tr>\n",
       "    <tr>\n",
       "      <th>std</th>\n",
       "      <td>0.050223</td>\n",
       "      <td>0.035505</td>\n",
       "      <td>0.045629</td>\n",
       "      <td>0.043399</td>\n",
       "      <td>1.294548</td>\n",
       "      <td>9.287983</td>\n",
       "    </tr>\n",
       "    <tr>\n",
       "      <th>min</th>\n",
       "      <td>-77.548270</td>\n",
       "      <td>37.600822</td>\n",
       "      <td>-77.528977</td>\n",
       "      <td>37.518858</td>\n",
       "      <td>1.000000</td>\n",
       "      <td>2.500000</td>\n",
       "    </tr>\n",
       "    <tr>\n",
       "      <th>25%</th>\n",
       "      <td>-73.992204</td>\n",
       "      <td>40.736807</td>\n",
       "      <td>-73.991683</td>\n",
       "      <td>40.736124</td>\n",
       "      <td>1.000000</td>\n",
       "      <td>6.000000</td>\n",
       "    </tr>\n",
       "    <tr>\n",
       "      <th>50%</th>\n",
       "      <td>-73.982071</td>\n",
       "      <td>40.753556</td>\n",
       "      <td>-73.980718</td>\n",
       "      <td>40.754012</td>\n",
       "      <td>1.000000</td>\n",
       "      <td>8.500000</td>\n",
       "    </tr>\n",
       "    <tr>\n",
       "      <th>75%</th>\n",
       "      <td>-73.968271</td>\n",
       "      <td>40.768000</td>\n",
       "      <td>-73.965823</td>\n",
       "      <td>40.768360</td>\n",
       "      <td>2.000000</td>\n",
       "      <td>12.500000</td>\n",
       "    </tr>\n",
       "    <tr>\n",
       "      <th>max</th>\n",
       "      <td>-72.910408</td>\n",
       "      <td>41.366138</td>\n",
       "      <td>-72.907598</td>\n",
       "      <td>43.703950</td>\n",
       "      <td>6.000000</td>\n",
       "      <td>133.080000</td>\n",
       "    </tr>\n",
       "  </tbody>\n",
       "</table>\n",
       "</div>"
      ],
      "text/plain": [
       "       pickup_longitude  pickup_latitude  dropoff_longitude  dropoff_latitude  \\\n",
       "count      21067.000000     21067.000000       21067.000000      21067.000000   \n",
       "mean         -73.975651        40.751291         -73.974836         40.751431   \n",
       "std            0.050223         0.035505           0.045629          0.043399   \n",
       "min          -77.548270        37.600822         -77.528977         37.518858   \n",
       "25%          -73.992204        40.736807         -73.991683         40.736124   \n",
       "50%          -73.982071        40.753556         -73.980718         40.754012   \n",
       "75%          -73.968271        40.768000         -73.965823         40.768360   \n",
       "max          -72.910408        41.366138         -72.907598         43.703950   \n",
       "\n",
       "       passenger_count   fare_amount  \n",
       "count     21067.000000  21067.000000  \n",
       "mean          1.679024     11.171715  \n",
       "std           1.294548      9.287983  \n",
       "min           1.000000      2.500000  \n",
       "25%           1.000000      6.000000  \n",
       "50%           1.000000      8.500000  \n",
       "75%           2.000000     12.500000  \n",
       "max           6.000000    133.080000  "
      ]
     },
     "execution_count": 12,
     "metadata": {},
     "output_type": "execute_result"
    }
   ],
   "source": [
    "df_valid.describe()"
   ]
  },
  {
   "cell_type": "markdown",
   "metadata": {},
   "source": [
    "Let's write out the two dataframes to appropriately named csv files. We can use these csv files for local training (recall that these files represent only 1/100,000 of the full dataset) until we get to point of using Dataflow and Cloud ML.\n",
    "\n",
    "The training set will be used to fit the model in the training phase.\n",
    "Validation is for quick evaluation of the trained model, especially useful in comparing different training parameters.\n",
    "It would also be best practice to have a Test dataset as the final step and used to compare different models against each other. "
   ]
  },
  {
   "cell_type": "code",
   "execution_count": 13,
   "metadata": {},
   "outputs": [
    {
     "name": "stdout",
     "output_type": "stream",
     "text": [
      "['fare_amount', u'pickup_longitude', u'pickup_latitude', u'dropoff_longitude', u'dropoff_latitude', u'passenger_count', 'key']\n",
      "['fare_amount', u'pickup_longitude', u'pickup_latitude', u'dropoff_longitude', u'dropoff_latitude', u'passenger_count', 'key']\n"
     ]
    }
   ],
   "source": [
    "def to_csv(df, filename):\n",
    "  outdf = df.copy(deep=False)\n",
    "  outdf.loc[:, 'key'] = np.arange(0, len(outdf)) # rownumber as key\n",
    "  # reorder columns so that target is first column\n",
    "  cols = outdf.columns.tolist()\n",
    "  cols.remove('fare_amount')\n",
    "  cols.insert(0, 'fare_amount')\n",
    "  print (cols)  # new order of columns\n",
    "  outdf = outdf[cols]\n",
    "  outdf.to_csv(filename, header=False, index_label=False, index=False)\n",
    "\n",
    "! mkdir -p data\n",
    "to_csv(df_train, 'data/taxi-train.csv')\n",
    "to_csv(df_valid, 'data/taxi-valid.csv')\n",
    "#to_csv(df_test, 'data/taxi-test.csv')"
   ]
  },
  {
   "cell_type": "code",
   "execution_count": 14,
   "metadata": {},
   "outputs": [
    {
     "name": "stdout",
     "output_type": "stream",
     "text": [
      "7.3,-73.986841,40.766568,-73.993693,40.747453,1,0\r\n",
      "17.5,-73.97982025146484,40.72697830200195,-73.97711944580078,40.77695083618164,1,1\r\n",
      "10.5,-73.973107,40.751092,-73.95116,40.779367,1,2\r\n",
      "14.1,-74.006722,40.744237,-73.960592,40.778327,1,3\r\n",
      "4.9,-73.972542,40.749187,-73.977104,40.75496,1,4\r\n",
      "6.1,-73.977733,40.787163,-73.962526,40.773448,1,5\r\n",
      "13.3,-73.968304,40.762341,-73.982185,40.762621,2,6\r\n",
      "6.5,-73.97565460205078,40.752159118652344,-73.97527313232422,40.741390228271484,3,7\r\n",
      "31.5,-73.990963,40.736415,-73.944207,40.694472,1,8\r\n",
      "4.5,-73.949545,40.77686,-73.956498,40.785283,5,9\r\n"
     ]
    }
   ],
   "source": [
    "!head -10 data/taxi-train.csv"
   ]
  },
  {
   "cell_type": "markdown",
   "metadata": {},
   "source": [
    "We have 2 .csv files corresponding to training and validation.  The ratio of file-sizes correspond to our split of the data. "
   ]
  },
  {
   "cell_type": "markdown",
   "metadata": {},
   "source": [
    "Looks good! We now have our ML datasets and are ready to train ML models, validate them and evaluate them."
   ]
  },
  {
   "cell_type": "markdown",
   "metadata": {},
   "source": [
    "# rule-based Benchmark\n",
    "\n",
    "Before we start building actual ML models, it is a good idea to come up with a very simple model and use that as a benchmark.\n",
    "\n",
    "The simplest model is going to be to derive the trip distance and calculate the mean rate per km (or mile). Then to predict the rate we multiply that average cost per km with the trip distance.\n",
    "In the absence of a map routing engine, we will have to use the direct line between pickup and dropoff which is obviously flawed but simple and fast to calculate."
   ]
  },
  {
   "cell_type": "code",
   "execution_count": 15,
   "metadata": {},
   "outputs": [
    {
     "name": "stdout",
     "output_type": "stream",
     "text": [
      "Rate = $2.56300214795/km\n",
      "Train RMSE = 6.76710380777\n"
     ]
    }
   ],
   "source": [
    "def distance_between(lat1, lon1, lat2, lon2):\n",
    "  # haversine formula to compute distance \"as the crow flies\".  Taxis can't fly of course.\n",
    "  dist = np.degrees(np.arccos(np.minimum(1,np.sin(np.radians(lat1)) * np.sin(np.radians(lat2)) + np.cos(np.radians(lat1)) * np.cos(np.radians(lat2)) * np.cos(np.radians(lon2 - lon1))))) * 60 * 1.515 * 1.609344\n",
    "  return dist\n",
    "\n",
    "def estimate_distance(df):\n",
    "  return distance_between(df['pickuplat'], df['pickuplon'], df['dropofflat'], df['dropofflon'])\n",
    "\n",
    "def compute_rmse(actual, predicted):\n",
    "  return np.sqrt(np.mean((actual-predicted)**2))\n",
    "\n",
    "def print_rmse(df, rate, name):\n",
    "  print (\"{1} RMSE = {0}\".format(compute_rmse(df['fare_amount'], rate*estimate_distance(df)), name))\n",
    "\n",
    "FEATURES = ['pickuplon','pickuplat','dropofflon','dropofflat','passengers']\n",
    "TARGET = 'fare_amount'\n",
    "columns = list([TARGET])\n",
    "columns.extend(FEATURES) # in CSV, target is the first column, after the features\n",
    "columns.append('key')\n",
    "df_train = pd.read_csv('data/taxi-train.csv', header=None, names=columns)\n",
    "df_valid = pd.read_csv('data/taxi-valid.csv', header=None, names=columns)\n",
    "rate = df_train['fare_amount'].mean() / estimate_distance(df_train).mean()\n",
    "print (\"Rate = ${0}/km\".format(rate))\n",
    "print_rmse(df_train, rate, 'Train')\n",
    "#print_rmse(df_valid, rate, 'Valid')  "
   ]
  },
  {
   "cell_type": "markdown",
   "metadata": {},
   "source": [
    "### Benchmark on validation dataset\n",
    "The RMSE depends on the dataset, and for comparison, we have to evaluate on the same dataset each time. We'll use this query in later labs:"
   ]
  },
  {
   "cell_type": "code",
   "execution_count": 17,
   "metadata": {},
   "outputs": [
    {
     "name": "stdout",
     "output_type": "stream",
     "text": [
      "Validation Set RMSE = 12.7882710946\n"
     ]
    }
   ],
   "source": [
    "print_rmse(df_valid, 2.56, 'Validation Set')"
   ]
  },
  {
   "cell_type": "markdown",
   "metadata": {},
   "source": [
    "The simple distance-based rule gives us a RMSE of about <b>$8</b>.  We have to beat this, of course, but you will find that simple rules of thumb like this can be surprisingly difficult to beat.\n",
    "\n",
    "Let's be ambitious, though, and make our goal to build ML models that have a RMSE of less than $6 on the test set."
   ]
  },
  {
   "cell_type": "markdown",
   "metadata": {},
   "source": [
    "# Machine Learning using Tensorflow\n",
    "\n",
    "Tensorflow is a popular open source machine learning library. Beyond basic algorithms it supports distributed training on neural networks. We will start with a linear regression model using tf.estimator and evaluate its performance. Tensorflow can run both locally or on a remote compute cluster. We will start with a small dataset (<10k records) so we can do it all in-memory on the VM that this notebook is running on. We will also just pass the data in as-is. \n",
    "\n",
    "## A quick word about linear regression\n",
    "\n",
    "The model is a simple linear equation:\n",
    "\n",
    "y = c + a1*x1 + a2*x2 + ...\n",
    "\n",
    "And during fitting/trainig we are trying out different weights to minimize overall loss. In the simplest form all inputs to the equation must be numerical for this to work. "
   ]
  },
  {
   "cell_type": "code",
   "execution_count": 18,
   "metadata": {},
   "outputs": [],
   "source": [
    "# In CSV, label is the first column, after the features, followed by the key\n",
    "CSV_COLUMNS = ['fare_amount', 'pickuplon','pickuplat','dropofflon','dropofflat','passengers', 'key']\n",
    "FEATURES = CSV_COLUMNS[1:len(CSV_COLUMNS) - 1]\n",
    "LABEL = CSV_COLUMNS[0]\n",
    "\n",
    "df_train = pd.read_csv('./data/taxi-train.csv', header = None, names = CSV_COLUMNS)\n",
    "df_valid = pd.read_csv('./data/taxi-valid.csv', header = None, names = CSV_COLUMNS)"
   ]
  },
  {
   "cell_type": "markdown",
   "metadata": {},
   "source": [
    "## Input function to read from Pandas Dataframe into tf"
   ]
  },
  {
   "cell_type": "code",
   "execution_count": 19,
   "metadata": {},
   "outputs": [],
   "source": [
    "def make_input_fn(df, num_epochs):\n",
    "  return tf.estimator.inputs.pandas_input_fn(\n",
    "    x = df,\n",
    "    y = df[LABEL],\n",
    "    batch_size = 128,\n",
    "    num_epochs = num_epochs,\n",
    "    shuffle = True,\n",
    "    queue_capacity = 1000,\n",
    "    num_threads = 1\n",
    "  )"
   ]
  },
  {
   "cell_type": "markdown",
   "metadata": {},
   "source": [
    "### Create feature columns for estimator"
   ]
  },
  {
   "cell_type": "code",
   "execution_count": 20,
   "metadata": {},
   "outputs": [],
   "source": [
    "def make_feature_cols():\n",
    "  input_columns = [tf.feature_column.numeric_column(k) for k in FEATURES]\n",
    "  return input_columns"
   ]
  },
  {
   "cell_type": "markdown",
   "metadata": {},
   "source": [
    "<h3> Linear Regression with tf.Estimator framework </h3>"
   ]
  },
  {
   "cell_type": "code",
   "execution_count": 21,
   "metadata": {},
   "outputs": [
    {
     "name": "stdout",
     "output_type": "stream",
     "text": [
      "INFO:tensorflow:Using default config.\n",
      "INFO:tensorflow:Using config: {'_save_checkpoints_secs': 600, '_session_config': None, '_keep_checkpoint_max': 5, '_task_type': 'worker', '_train_distribute': None, '_is_chief': True, '_cluster_spec': <tensorflow.python.training.server_lib.ClusterSpec object at 0x7f12b5b81c10>, '_evaluation_master': '', '_save_checkpoints_steps': None, '_keep_checkpoint_every_n_hours': 10000, '_service': None, '_num_ps_replicas': 0, '_tf_random_seed': None, '_master': '', '_num_worker_replicas': 1, '_task_id': 0, '_log_step_count_steps': 100, '_model_dir': 'taxi_trained', '_global_id_in_cluster': 0, '_save_summary_steps': 100}\n",
      "INFO:tensorflow:Calling model_fn.\n",
      "INFO:tensorflow:Done calling model_fn.\n",
      "INFO:tensorflow:Create CheckpointSaverHook.\n",
      "INFO:tensorflow:Graph was finalized.\n",
      "INFO:tensorflow:Running local_init_op.\n",
      "INFO:tensorflow:Done running local_init_op.\n",
      "INFO:tensorflow:Saving checkpoints for 1 into taxi_trained/model.ckpt.\n",
      "INFO:tensorflow:loss = 20947.725, step = 1\n",
      "INFO:tensorflow:global_step/sec: 162.945\n",
      "INFO:tensorflow:loss = 11894.498, step = 101 (0.619 sec)\n",
      "INFO:tensorflow:global_step/sec: 242\n",
      "INFO:tensorflow:loss = 10803.84, step = 201 (0.412 sec)\n",
      "INFO:tensorflow:global_step/sec: 234.12\n",
      "INFO:tensorflow:loss = 6099.312, step = 301 (0.428 sec)\n",
      "INFO:tensorflow:global_step/sec: 234.928\n",
      "INFO:tensorflow:loss = 8371.389, step = 401 (0.425 sec)\n",
      "INFO:tensorflow:global_step/sec: 242.282\n",
      "INFO:tensorflow:loss = 6470.7886, step = 501 (0.413 sec)\n",
      "INFO:tensorflow:global_step/sec: 230.202\n",
      "INFO:tensorflow:loss = 15391.445, step = 601 (0.434 sec)\n",
      "INFO:tensorflow:global_step/sec: 238.432\n",
      "INFO:tensorflow:loss = 13673.059, step = 701 (0.420 sec)\n",
      "INFO:tensorflow:global_step/sec: 223.148\n",
      "INFO:tensorflow:loss = 17273.584, step = 801 (0.448 sec)\n",
      "INFO:tensorflow:global_step/sec: 238.82\n",
      "INFO:tensorflow:loss = 10957.307, step = 901 (0.418 sec)\n",
      "INFO:tensorflow:global_step/sec: 237.724\n",
      "INFO:tensorflow:loss = 6078.957, step = 1001 (0.421 sec)\n",
      "INFO:tensorflow:global_step/sec: 227.708\n",
      "INFO:tensorflow:loss = 18640.555, step = 1101 (0.440 sec)\n",
      "INFO:tensorflow:global_step/sec: 253.452\n",
      "INFO:tensorflow:loss = 9760.01, step = 1201 (0.394 sec)\n",
      "INFO:tensorflow:global_step/sec: 244.622\n",
      "INFO:tensorflow:loss = 9911.438, step = 1301 (0.409 sec)\n",
      "INFO:tensorflow:global_step/sec: 255.6\n",
      "INFO:tensorflow:loss = 7740.8115, step = 1401 (0.391 sec)\n",
      "INFO:tensorflow:global_step/sec: 248.226\n",
      "INFO:tensorflow:loss = 10210.981, step = 1501 (0.403 sec)\n",
      "INFO:tensorflow:global_step/sec: 245.754\n",
      "INFO:tensorflow:loss = 6341.9224, step = 1601 (0.407 sec)\n",
      "INFO:tensorflow:global_step/sec: 240.621\n",
      "INFO:tensorflow:loss = 10312.908, step = 1701 (0.416 sec)\n",
      "INFO:tensorflow:global_step/sec: 223.704\n",
      "INFO:tensorflow:loss = 8367.714, step = 1801 (0.449 sec)\n",
      "INFO:tensorflow:global_step/sec: 221.275\n",
      "INFO:tensorflow:loss = 8375.145, step = 1901 (0.449 sec)\n",
      "INFO:tensorflow:global_step/sec: 221.97\n",
      "INFO:tensorflow:loss = 9195.129, step = 2001 (0.451 sec)\n",
      "INFO:tensorflow:global_step/sec: 209.463\n",
      "INFO:tensorflow:loss = 22159.562, step = 2101 (0.480 sec)\n",
      "INFO:tensorflow:global_step/sec: 209.954\n",
      "INFO:tensorflow:loss = 8580.565, step = 2201 (0.474 sec)\n",
      "INFO:tensorflow:global_step/sec: 214.714\n",
      "INFO:tensorflow:loss = 13000.855, step = 2301 (0.467 sec)\n",
      "INFO:tensorflow:global_step/sec: 207.186\n",
      "INFO:tensorflow:loss = 9808.189, step = 2401 (0.482 sec)\n",
      "INFO:tensorflow:global_step/sec: 212.531\n",
      "INFO:tensorflow:loss = 11915.932, step = 2501 (0.472 sec)\n",
      "INFO:tensorflow:global_step/sec: 220.712\n",
      "INFO:tensorflow:loss = 12741.484, step = 2601 (0.451 sec)\n",
      "INFO:tensorflow:global_step/sec: 217.329\n",
      "INFO:tensorflow:loss = 10786.011, step = 2701 (0.460 sec)\n",
      "INFO:tensorflow:global_step/sec: 221.472\n",
      "INFO:tensorflow:loss = 8552.101, step = 2801 (0.451 sec)\n",
      "INFO:tensorflow:global_step/sec: 218.237\n",
      "INFO:tensorflow:loss = 7055.873, step = 2901 (0.459 sec)\n",
      "INFO:tensorflow:global_step/sec: 218.581\n",
      "INFO:tensorflow:loss = 8752.277, step = 3001 (0.457 sec)\n",
      "INFO:tensorflow:global_step/sec: 209.979\n",
      "INFO:tensorflow:loss = 12994.316, step = 3101 (0.476 sec)\n",
      "INFO:tensorflow:global_step/sec: 221.032\n",
      "INFO:tensorflow:loss = 4993.9873, step = 3201 (0.453 sec)\n",
      "INFO:tensorflow:global_step/sec: 214.321\n",
      "INFO:tensorflow:loss = 10999.438, step = 3301 (0.467 sec)\n",
      "INFO:tensorflow:global_step/sec: 209.037\n",
      "INFO:tensorflow:loss = 6248.285, step = 3401 (0.478 sec)\n",
      "INFO:tensorflow:global_step/sec: 264.079\n",
      "INFO:tensorflow:loss = 10929.737, step = 3501 (0.377 sec)\n",
      "INFO:tensorflow:global_step/sec: 303.392\n",
      "INFO:tensorflow:loss = 5364.1367, step = 3601 (0.330 sec)\n",
      "INFO:tensorflow:global_step/sec: 305.747\n",
      "INFO:tensorflow:loss = 9260.746, step = 3701 (0.327 sec)\n",
      "INFO:tensorflow:global_step/sec: 290.797\n",
      "INFO:tensorflow:loss = 7447.696, step = 3801 (0.344 sec)\n",
      "INFO:tensorflow:global_step/sec: 293.993\n",
      "INFO:tensorflow:loss = 11403.427, step = 3901 (0.340 sec)\n",
      "INFO:tensorflow:global_step/sec: 298.302\n",
      "INFO:tensorflow:loss = 10156.799, step = 4001 (0.336 sec)\n",
      "INFO:tensorflow:global_step/sec: 288.248\n",
      "INFO:tensorflow:loss = 9084.502, step = 4101 (0.346 sec)\n",
      "INFO:tensorflow:global_step/sec: 304.652\n",
      "INFO:tensorflow:loss = 12917.758, step = 4201 (0.329 sec)\n",
      "INFO:tensorflow:global_step/sec: 291.08\n",
      "INFO:tensorflow:loss = 8114.125, step = 4301 (0.345 sec)\n",
      "INFO:tensorflow:global_step/sec: 326.058\n",
      "INFO:tensorflow:loss = 16233.919, step = 4401 (0.305 sec)\n",
      "INFO:tensorflow:global_step/sec: 333.087\n",
      "INFO:tensorflow:loss = 14575.78, step = 4501 (0.300 sec)\n",
      "INFO:tensorflow:global_step/sec: 336.449\n",
      "INFO:tensorflow:loss = 9705.787, step = 4601 (0.297 sec)\n",
      "INFO:tensorflow:global_step/sec: 312.885\n",
      "INFO:tensorflow:loss = 12158.217, step = 4701 (0.320 sec)\n",
      "INFO:tensorflow:global_step/sec: 328.847\n",
      "INFO:tensorflow:loss = 9909.549, step = 4801 (0.305 sec)\n",
      "INFO:tensorflow:global_step/sec: 336.472\n",
      "INFO:tensorflow:loss = 10638.427, step = 4901 (0.295 sec)\n",
      "INFO:tensorflow:global_step/sec: 322.251\n",
      "INFO:tensorflow:loss = 10561.6, step = 5001 (0.311 sec)\n",
      "INFO:tensorflow:global_step/sec: 331.548\n",
      "INFO:tensorflow:loss = 11869.074, step = 5101 (0.302 sec)\n",
      "INFO:tensorflow:global_step/sec: 312.308\n",
      "INFO:tensorflow:loss = 21061.799, step = 5201 (0.320 sec)\n",
      "INFO:tensorflow:global_step/sec: 325.383\n",
      "INFO:tensorflow:loss = 10987.948, step = 5301 (0.307 sec)\n",
      "INFO:tensorflow:global_step/sec: 310.332\n",
      "INFO:tensorflow:loss = 10667.715, step = 5401 (0.323 sec)\n",
      "INFO:tensorflow:global_step/sec: 329.47\n",
      "INFO:tensorflow:loss = 15817.37, step = 5501 (0.303 sec)\n",
      "INFO:tensorflow:global_step/sec: 315.694\n",
      "INFO:tensorflow:loss = 10063.486, step = 5601 (0.318 sec)\n",
      "INFO:tensorflow:global_step/sec: 311.405\n",
      "INFO:tensorflow:loss = 14930.963, step = 5701 (0.320 sec)\n",
      "INFO:tensorflow:global_step/sec: 312.521\n",
      "INFO:tensorflow:loss = 8232.596, step = 5801 (0.320 sec)\n",
      "INFO:tensorflow:global_step/sec: 320.882\n",
      "INFO:tensorflow:loss = 15465.316, step = 5901 (0.312 sec)\n",
      "INFO:tensorflow:global_step/sec: 326.943\n",
      "INFO:tensorflow:loss = 10054.963, step = 6001 (0.305 sec)\n",
      "INFO:tensorflow:global_step/sec: 232.544\n",
      "INFO:tensorflow:loss = 13781.22, step = 6101 (0.434 sec)\n",
      "INFO:tensorflow:global_step/sec: 232.568\n",
      "INFO:tensorflow:loss = 10460.697, step = 6201 (0.429 sec)\n",
      "INFO:tensorflow:global_step/sec: 227.105\n",
      "INFO:tensorflow:loss = 14201.094, step = 6301 (0.440 sec)\n",
      "INFO:tensorflow:global_step/sec: 236.076\n",
      "INFO:tensorflow:loss = 16604.518, step = 6401 (0.423 sec)\n",
      "INFO:tensorflow:global_step/sec: 236.735\n",
      "INFO:tensorflow:loss = 10845.242, step = 6501 (0.424 sec)\n",
      "INFO:tensorflow:Saving checkpoints for 6584 into taxi_trained/model.ckpt.\n",
      "INFO:tensorflow:Loss for final step: 4279.1855.\n"
     ]
    },
    {
     "data": {
      "text/plain": [
       "<tensorflow.python.estimator.canned.linear.LinearRegressor at 0x7f12b60c0950>"
      ]
     },
     "execution_count": 21,
     "metadata": {},
     "output_type": "execute_result"
    }
   ],
   "source": [
    "tf.logging.set_verbosity(tf.logging.INFO)\n",
    "\n",
    "OUTDIR = 'taxi_trained'\n",
    "shutil.rmtree(OUTDIR, ignore_errors = True) # start fresh each time\n",
    "\n",
    "model = tf.estimator.LinearRegressor(\n",
    "      feature_columns = make_feature_cols(), model_dir = OUTDIR)\n",
    "\n",
    "model.train(input_fn = make_input_fn(df_train, num_epochs = 10))"
   ]
  },
  {
   "cell_type": "markdown",
   "metadata": {},
   "source": [
    "Evaluate on the validation data. Let's see if the number of iterations can help to improve the training. Try out different values and calculate the RMSE for the validation set."
   ]
  },
  {
   "cell_type": "code",
   "execution_count": 22,
   "metadata": {},
   "outputs": [
    {
     "name": "stdout",
     "output_type": "stream",
     "text": [
      "INFO:tensorflow:Calling model_fn.\n",
      "INFO:tensorflow:Done calling model_fn.\n",
      "INFO:tensorflow:Starting evaluation at 2019-05-18-19:55:46\n",
      "INFO:tensorflow:Graph was finalized.\n",
      "INFO:tensorflow:Restoring parameters from taxi_trained/model.ckpt-6584\n",
      "INFO:tensorflow:Running local_init_op.\n",
      "INFO:tensorflow:Done running local_init_op.\n",
      "INFO:tensorflow:Finished evaluation at 2019-05-18-19:55:47\n",
      "INFO:tensorflow:Saving dict for global step 6584: average_loss = 86.46122, global_step = 6584, loss = 11039.264\n",
      "RMSE on validation dataset = 9.29845237732\n"
     ]
    }
   ],
   "source": [
    "def print_rmse(model, name, df):\n",
    "  metrics = model.evaluate(input_fn = make_input_fn(df, 1))\n",
    "  print('RMSE on {} dataset = {}'.format(name, np.sqrt(metrics['average_loss'])))\n",
    "    \n",
    "print_rmse(model, 'validation', df_valid)"
   ]
  },
  {
   "cell_type": "markdown",
   "metadata": {},
   "source": [
    "This is nowhere near our benchmark (RMSE of $8 or so on this data), but it serves to demonstrate what TensorFlow code looks like.  Let's use this model for prediction."
   ]
  },
  {
   "cell_type": "markdown",
   "metadata": {},
   "source": [
    "# Deep Neural Network regression\n",
    "\n",
    "http://playground.tensorflow.org"
   ]
  },
  {
   "cell_type": "code",
   "execution_count": 23,
   "metadata": {},
   "outputs": [
    {
     "name": "stdout",
     "output_type": "stream",
     "text": [
      "INFO:tensorflow:Using default config.\n",
      "INFO:tensorflow:Using config: {'_save_checkpoints_secs': 600, '_session_config': None, '_keep_checkpoint_max': 5, '_task_type': 'worker', '_train_distribute': None, '_is_chief': True, '_cluster_spec': <tensorflow.python.training.server_lib.ClusterSpec object at 0x7f12aadbea50>, '_evaluation_master': '', '_save_checkpoints_steps': None, '_keep_checkpoint_every_n_hours': 10000, '_service': None, '_num_ps_replicas': 0, '_tf_random_seed': None, '_master': '', '_num_worker_replicas': 1, '_task_id': 0, '_log_step_count_steps': 100, '_model_dir': 'taxi_trained', '_global_id_in_cluster': 0, '_save_summary_steps': 100}\n",
      "INFO:tensorflow:Calling model_fn.\n",
      "INFO:tensorflow:Done calling model_fn.\n",
      "INFO:tensorflow:Create CheckpointSaverHook.\n",
      "INFO:tensorflow:Graph was finalized.\n",
      "INFO:tensorflow:Running local_init_op.\n",
      "INFO:tensorflow:Done running local_init_op.\n",
      "INFO:tensorflow:Saving checkpoints for 1 into taxi_trained/model.ckpt.\n",
      "INFO:tensorflow:loss = 32125.348, step = 1\n",
      "INFO:tensorflow:global_step/sec: 171.332\n",
      "INFO:tensorflow:loss = 20075.285, step = 101 (0.588 sec)\n",
      "INFO:tensorflow:global_step/sec: 131.169\n",
      "INFO:tensorflow:loss = 24036.615, step = 201 (0.764 sec)\n",
      "INFO:tensorflow:global_step/sec: 207.108\n",
      "INFO:tensorflow:loss = 17525.072, step = 301 (0.483 sec)\n",
      "INFO:tensorflow:global_step/sec: 236.768\n",
      "INFO:tensorflow:loss = 25346.238, step = 401 (0.422 sec)\n",
      "INFO:tensorflow:global_step/sec: 234.926\n",
      "INFO:tensorflow:loss = 18054.219, step = 501 (0.426 sec)\n",
      "INFO:tensorflow:global_step/sec: 222.246\n",
      "INFO:tensorflow:loss = 37140.69, step = 601 (0.449 sec)\n",
      "INFO:tensorflow:global_step/sec: 221.153\n",
      "INFO:tensorflow:loss = 27925.793, step = 701 (0.453 sec)\n",
      "INFO:tensorflow:global_step/sec: 223.678\n",
      "INFO:tensorflow:loss = 27009.145, step = 801 (0.447 sec)\n",
      "INFO:tensorflow:global_step/sec: 223.756\n",
      "INFO:tensorflow:loss = 13073.998, step = 901 (0.449 sec)\n",
      "INFO:tensorflow:global_step/sec: 222.519\n",
      "INFO:tensorflow:loss = 18075.82, step = 1001 (0.447 sec)\n",
      "INFO:tensorflow:global_step/sec: 219.278\n",
      "INFO:tensorflow:loss = 12528.369, step = 1101 (0.456 sec)\n",
      "INFO:tensorflow:global_step/sec: 231.488\n",
      "INFO:tensorflow:loss = 22505.496, step = 1201 (0.432 sec)\n",
      "INFO:tensorflow:global_step/sec: 230.1\n",
      "INFO:tensorflow:loss = 18048.78, step = 1301 (0.435 sec)\n",
      "INFO:tensorflow:global_step/sec: 226.163\n",
      "INFO:tensorflow:loss = 21535.594, step = 1401 (0.442 sec)\n",
      "INFO:tensorflow:global_step/sec: 226.014\n",
      "INFO:tensorflow:loss = 17504.297, step = 1501 (0.445 sec)\n",
      "INFO:tensorflow:global_step/sec: 213.736\n",
      "INFO:tensorflow:loss = 11001.682, step = 1601 (0.465 sec)\n",
      "INFO:tensorflow:global_step/sec: 296.701\n",
      "INFO:tensorflow:loss = 13574.948, step = 1701 (0.337 sec)\n",
      "INFO:tensorflow:global_step/sec: 294.008\n",
      "INFO:tensorflow:loss = 16429.229, step = 1801 (0.340 sec)\n",
      "INFO:tensorflow:global_step/sec: 277.505\n",
      "INFO:tensorflow:loss = 16442.96, step = 1901 (0.360 sec)\n",
      "INFO:tensorflow:global_step/sec: 285.059\n",
      "INFO:tensorflow:loss = 13652.635, step = 2001 (0.351 sec)\n",
      "INFO:tensorflow:global_step/sec: 292.82\n",
      "INFO:tensorflow:loss = 25943.3, step = 2101 (0.341 sec)\n",
      "INFO:tensorflow:global_step/sec: 300.561\n",
      "INFO:tensorflow:loss = 20058.32, step = 2201 (0.334 sec)\n",
      "INFO:tensorflow:global_step/sec: 288.906\n",
      "INFO:tensorflow:loss = 17726.05, step = 2301 (0.345 sec)\n",
      "INFO:tensorflow:global_step/sec: 297.042\n",
      "INFO:tensorflow:loss = 17358.428, step = 2401 (0.337 sec)\n",
      "INFO:tensorflow:global_step/sec: 285.736\n",
      "INFO:tensorflow:loss = 18144.75, step = 2501 (0.351 sec)\n",
      "INFO:tensorflow:global_step/sec: 301.448\n",
      "INFO:tensorflow:loss = 11419.602, step = 2601 (0.330 sec)\n",
      "INFO:tensorflow:global_step/sec: 305.371\n",
      "INFO:tensorflow:loss = 16050.389, step = 2701 (0.328 sec)\n",
      "INFO:tensorflow:global_step/sec: 291.329\n",
      "INFO:tensorflow:loss = 11858.9, step = 2801 (0.343 sec)\n",
      "INFO:tensorflow:global_step/sec: 305.047\n",
      "INFO:tensorflow:loss = 11994.482, step = 2901 (0.328 sec)\n",
      "INFO:tensorflow:global_step/sec: 298.463\n",
      "INFO:tensorflow:loss = 16579.227, step = 3001 (0.335 sec)\n",
      "INFO:tensorflow:global_step/sec: 287.196\n",
      "INFO:tensorflow:loss = 11396.48, step = 3101 (0.348 sec)\n",
      "INFO:tensorflow:global_step/sec: 298.619\n",
      "INFO:tensorflow:loss = 14222.26, step = 3201 (0.335 sec)\n",
      "INFO:tensorflow:global_step/sec: 288.703\n",
      "INFO:tensorflow:loss = 14387.862, step = 3301 (0.346 sec)\n",
      "INFO:tensorflow:global_step/sec: 302.4\n",
      "INFO:tensorflow:loss = 21135.035, step = 3401 (0.331 sec)\n",
      "INFO:tensorflow:global_step/sec: 295.473\n",
      "INFO:tensorflow:loss = 15587.07, step = 3501 (0.339 sec)\n",
      "INFO:tensorflow:global_step/sec: 306.587\n",
      "INFO:tensorflow:loss = 12025.629, step = 3601 (0.326 sec)\n",
      "INFO:tensorflow:global_step/sec: 280.767\n",
      "INFO:tensorflow:loss = 13977.227, step = 3701 (0.356 sec)\n",
      "INFO:tensorflow:global_step/sec: 286.108\n",
      "INFO:tensorflow:loss = 13140.799, step = 3801 (0.350 sec)\n",
      "INFO:tensorflow:global_step/sec: 289.561\n",
      "INFO:tensorflow:loss = 14735.922, step = 3901 (0.345 sec)\n",
      "INFO:tensorflow:global_step/sec: 310.568\n",
      "INFO:tensorflow:loss = 17089.1, step = 4001 (0.322 sec)\n",
      "INFO:tensorflow:global_step/sec: 244.067\n",
      "INFO:tensorflow:loss = 11621.806, step = 4101 (0.410 sec)\n",
      "INFO:tensorflow:global_step/sec: 238.353\n",
      "INFO:tensorflow:loss = 12448.141, step = 4201 (0.420 sec)\n",
      "INFO:tensorflow:global_step/sec: 236.655\n",
      "INFO:tensorflow:loss = 26401.758, step = 4301 (0.423 sec)\n",
      "INFO:tensorflow:global_step/sec: 224.606\n",
      "INFO:tensorflow:loss = 10796.359, step = 4401 (0.445 sec)\n",
      "INFO:tensorflow:global_step/sec: 222.309\n",
      "INFO:tensorflow:loss = 18427.734, step = 4501 (0.450 sec)\n",
      "INFO:tensorflow:global_step/sec: 219.572\n",
      "INFO:tensorflow:loss = 20447.656, step = 4601 (0.455 sec)\n",
      "INFO:tensorflow:global_step/sec: 224.494\n",
      "INFO:tensorflow:loss = 11110.0625, step = 4701 (0.445 sec)\n",
      "INFO:tensorflow:global_step/sec: 223.611\n",
      "INFO:tensorflow:loss = 15504.911, step = 4801 (0.448 sec)\n",
      "INFO:tensorflow:global_step/sec: 217.483\n",
      "INFO:tensorflow:loss = 10913.84, step = 4901 (0.459 sec)\n",
      "INFO:tensorflow:global_step/sec: 220.656\n",
      "INFO:tensorflow:loss = 14267.102, step = 5001 (0.454 sec)\n",
      "INFO:tensorflow:global_step/sec: 225.012\n",
      "INFO:tensorflow:loss = 21290.797, step = 5101 (0.446 sec)\n",
      "INFO:tensorflow:global_step/sec: 230.502\n",
      "INFO:tensorflow:loss = 10930.888, step = 5201 (0.433 sec)\n",
      "INFO:tensorflow:global_step/sec: 213.287\n",
      "INFO:tensorflow:loss = 10946.289, step = 5301 (0.469 sec)\n",
      "INFO:tensorflow:global_step/sec: 232.498\n",
      "INFO:tensorflow:loss = 12087.301, step = 5401 (0.430 sec)\n",
      "INFO:tensorflow:global_step/sec: 216.592\n",
      "INFO:tensorflow:loss = 16664.676, step = 5501 (0.462 sec)\n",
      "INFO:tensorflow:global_step/sec: 219.051\n",
      "INFO:tensorflow:loss = 21886.012, step = 5601 (0.456 sec)\n",
      "INFO:tensorflow:global_step/sec: 221.312\n",
      "INFO:tensorflow:loss = 10468.273, step = 5701 (0.453 sec)\n",
      "INFO:tensorflow:global_step/sec: 228.728\n",
      "INFO:tensorflow:loss = 16265.965, step = 5801 (0.436 sec)\n",
      "INFO:tensorflow:global_step/sec: 234.519\n",
      "INFO:tensorflow:loss = 13910.453, step = 5901 (0.426 sec)\n",
      "INFO:tensorflow:global_step/sec: 225.225\n",
      "INFO:tensorflow:loss = 8112.488, step = 6001 (0.445 sec)\n",
      "INFO:tensorflow:global_step/sec: 221.22\n",
      "INFO:tensorflow:loss = 13249.391, step = 6101 (0.457 sec)\n",
      "INFO:tensorflow:global_step/sec: 228.404\n",
      "INFO:tensorflow:loss = 14173.713, step = 6201 (0.432 sec)\n",
      "INFO:tensorflow:global_step/sec: 250.921\n",
      "INFO:tensorflow:loss = 11704.806, step = 6301 (0.399 sec)\n",
      "INFO:tensorflow:global_step/sec: 241.16\n",
      "INFO:tensorflow:loss = 8913.561, step = 6401 (0.415 sec)\n",
      "INFO:tensorflow:global_step/sec: 227.733\n",
      "INFO:tensorflow:loss = 6506.6562, step = 6501 (0.438 sec)\n",
      "INFO:tensorflow:global_step/sec: 239.369\n",
      "INFO:tensorflow:loss = 15902.619, step = 6601 (0.418 sec)\n",
      "INFO:tensorflow:global_step/sec: 233.632\n",
      "INFO:tensorflow:loss = 9499.909, step = 6701 (0.428 sec)\n",
      "INFO:tensorflow:global_step/sec: 240.966\n",
      "INFO:tensorflow:loss = 8031.9565, step = 6801 (0.415 sec)\n",
      "INFO:tensorflow:global_step/sec: 219.643\n",
      "INFO:tensorflow:loss = 10563.807, step = 6901 (0.457 sec)\n",
      "INFO:tensorflow:global_step/sec: 237.86\n",
      "INFO:tensorflow:loss = 8474.934, step = 7001 (0.419 sec)\n",
      "INFO:tensorflow:global_step/sec: 234.603\n",
      "INFO:tensorflow:loss = 10585.919, step = 7101 (0.429 sec)\n",
      "INFO:tensorflow:global_step/sec: 210.821\n",
      "INFO:tensorflow:loss = 16037.39, step = 7201 (0.472 sec)\n",
      "INFO:tensorflow:global_step/sec: 216.014\n",
      "INFO:tensorflow:loss = 10148.709, step = 7301 (0.464 sec)\n"
     ]
    },
    {
     "name": "stdout",
     "output_type": "stream",
     "text": [
      "INFO:tensorflow:global_step/sec: 213.364\n",
      "INFO:tensorflow:loss = 24144.598, step = 7401 (0.466 sec)\n",
      "INFO:tensorflow:global_step/sec: 221.71\n",
      "INFO:tensorflow:loss = 12444.746, step = 7501 (0.451 sec)\n",
      "INFO:tensorflow:global_step/sec: 227.485\n",
      "INFO:tensorflow:loss = 17097.336, step = 7601 (0.440 sec)\n",
      "INFO:tensorflow:global_step/sec: 231.986\n",
      "INFO:tensorflow:loss = 7625.9834, step = 7701 (0.435 sec)\n",
      "INFO:tensorflow:global_step/sec: 216.201\n",
      "INFO:tensorflow:loss = 10580.994, step = 7801 (0.459 sec)\n",
      "INFO:tensorflow:global_step/sec: 233.597\n",
      "INFO:tensorflow:loss = 11710.27, step = 7901 (0.428 sec)\n",
      "INFO:tensorflow:global_step/sec: 231.18\n",
      "INFO:tensorflow:loss = 10856.564, step = 8001 (0.432 sec)\n",
      "INFO:tensorflow:global_step/sec: 233.117\n",
      "INFO:tensorflow:loss = 11357.776, step = 8101 (0.429 sec)\n",
      "INFO:tensorflow:global_step/sec: 238.338\n",
      "INFO:tensorflow:loss = 9842.65, step = 8201 (0.420 sec)\n",
      "INFO:tensorflow:global_step/sec: 221.471\n",
      "INFO:tensorflow:loss = 13913.625, step = 8301 (0.451 sec)\n",
      "INFO:tensorflow:global_step/sec: 240.525\n",
      "INFO:tensorflow:loss = 12166.096, step = 8401 (0.416 sec)\n",
      "INFO:tensorflow:global_step/sec: 224.17\n",
      "INFO:tensorflow:loss = 14000.217, step = 8501 (0.448 sec)\n",
      "INFO:tensorflow:global_step/sec: 232.96\n",
      "INFO:tensorflow:loss = 13777.56, step = 8601 (0.427 sec)\n",
      "INFO:tensorflow:global_step/sec: 233.12\n",
      "INFO:tensorflow:loss = 6887.037, step = 8701 (0.429 sec)\n",
      "INFO:tensorflow:global_step/sec: 225.141\n",
      "INFO:tensorflow:loss = 4968.054, step = 8801 (0.446 sec)\n",
      "INFO:tensorflow:global_step/sec: 229.566\n",
      "INFO:tensorflow:loss = 16814.258, step = 8901 (0.434 sec)\n",
      "INFO:tensorflow:global_step/sec: 219.942\n",
      "INFO:tensorflow:loss = 9137.175, step = 9001 (0.457 sec)\n",
      "INFO:tensorflow:global_step/sec: 234.394\n",
      "INFO:tensorflow:loss = 12003.361, step = 9101 (0.424 sec)\n",
      "INFO:tensorflow:global_step/sec: 210.889\n",
      "INFO:tensorflow:loss = 12024.052, step = 9201 (0.475 sec)\n",
      "INFO:tensorflow:global_step/sec: 227.589\n",
      "INFO:tensorflow:loss = 18125.582, step = 9301 (0.439 sec)\n",
      "INFO:tensorflow:global_step/sec: 236.69\n",
      "INFO:tensorflow:loss = 29741.996, step = 9401 (0.423 sec)\n",
      "INFO:tensorflow:global_step/sec: 229.924\n",
      "INFO:tensorflow:loss = 21879.516, step = 9501 (0.434 sec)\n",
      "INFO:tensorflow:global_step/sec: 228.568\n",
      "INFO:tensorflow:loss = 14801.261, step = 9601 (0.439 sec)\n",
      "INFO:tensorflow:global_step/sec: 220.541\n",
      "INFO:tensorflow:loss = 12116.0205, step = 9701 (0.452 sec)\n",
      "INFO:tensorflow:global_step/sec: 234.084\n",
      "INFO:tensorflow:loss = 18651.424, step = 9801 (0.427 sec)\n",
      "INFO:tensorflow:global_step/sec: 236.1\n",
      "INFO:tensorflow:loss = 14160.74, step = 9901 (0.424 sec)\n",
      "INFO:tensorflow:global_step/sec: 244.381\n",
      "INFO:tensorflow:loss = 10095.38, step = 10001 (0.409 sec)\n",
      "INFO:tensorflow:global_step/sec: 242.718\n",
      "INFO:tensorflow:loss = 15566.141, step = 10101 (0.412 sec)\n",
      "INFO:tensorflow:global_step/sec: 230.299\n",
      "INFO:tensorflow:loss = 8830.234, step = 10201 (0.437 sec)\n",
      "INFO:tensorflow:global_step/sec: 237.935\n",
      "INFO:tensorflow:loss = 11395.915, step = 10301 (0.418 sec)\n",
      "INFO:tensorflow:global_step/sec: 235.748\n",
      "INFO:tensorflow:loss = 18149.857, step = 10401 (0.424 sec)\n",
      "INFO:tensorflow:global_step/sec: 241.19\n",
      "INFO:tensorflow:loss = 6960.1133, step = 10501 (0.414 sec)\n",
      "INFO:tensorflow:global_step/sec: 228.527\n",
      "INFO:tensorflow:loss = 18534.23, step = 10601 (0.438 sec)\n",
      "INFO:tensorflow:global_step/sec: 225.108\n",
      "INFO:tensorflow:loss = 5560.462, step = 10701 (0.444 sec)\n",
      "INFO:tensorflow:global_step/sec: 220.63\n",
      "INFO:tensorflow:loss = 9578.021, step = 10801 (0.454 sec)\n",
      "INFO:tensorflow:global_step/sec: 226.956\n",
      "INFO:tensorflow:loss = 9597.353, step = 10901 (0.440 sec)\n",
      "INFO:tensorflow:global_step/sec: 222.895\n",
      "INFO:tensorflow:loss = 17586.824, step = 11001 (0.451 sec)\n",
      "INFO:tensorflow:global_step/sec: 227.006\n",
      "INFO:tensorflow:loss = 7418.582, step = 11101 (0.439 sec)\n",
      "INFO:tensorflow:global_step/sec: 231.709\n",
      "INFO:tensorflow:loss = 14222.291, step = 11201 (0.431 sec)\n",
      "INFO:tensorflow:global_step/sec: 239.855\n",
      "INFO:tensorflow:loss = 15506.579, step = 11301 (0.417 sec)\n",
      "INFO:tensorflow:global_step/sec: 233.158\n",
      "INFO:tensorflow:loss = 18482.016, step = 11401 (0.429 sec)\n",
      "INFO:tensorflow:global_step/sec: 232.963\n",
      "INFO:tensorflow:loss = 11264.112, step = 11501 (0.429 sec)\n",
      "INFO:tensorflow:global_step/sec: 233.799\n",
      "INFO:tensorflow:loss = 22751.578, step = 11601 (0.428 sec)\n",
      "INFO:tensorflow:global_step/sec: 237.405\n",
      "INFO:tensorflow:loss = 11168.633, step = 11701 (0.421 sec)\n",
      "INFO:tensorflow:global_step/sec: 241.174\n",
      "INFO:tensorflow:loss = 18953.857, step = 11801 (0.415 sec)\n",
      "INFO:tensorflow:global_step/sec: 246.336\n",
      "INFO:tensorflow:loss = 21257.762, step = 11901 (0.405 sec)\n",
      "INFO:tensorflow:global_step/sec: 251.26\n",
      "INFO:tensorflow:loss = 11032.197, step = 12001 (0.399 sec)\n",
      "INFO:tensorflow:global_step/sec: 241.153\n",
      "INFO:tensorflow:loss = 11632.102, step = 12101 (0.414 sec)\n",
      "INFO:tensorflow:global_step/sec: 243.103\n",
      "INFO:tensorflow:loss = 11898.328, step = 12201 (0.412 sec)\n",
      "INFO:tensorflow:global_step/sec: 243.574\n",
      "INFO:tensorflow:loss = 7550.371, step = 12301 (0.410 sec)\n",
      "INFO:tensorflow:global_step/sec: 236.926\n",
      "INFO:tensorflow:loss = 9608.392, step = 12401 (0.422 sec)\n",
      "INFO:tensorflow:global_step/sec: 240.638\n",
      "INFO:tensorflow:loss = 15045.627, step = 12501 (0.418 sec)\n",
      "INFO:tensorflow:global_step/sec: 238.082\n",
      "INFO:tensorflow:loss = 8687.332, step = 12601 (0.418 sec)\n",
      "INFO:tensorflow:global_step/sec: 232.478\n",
      "INFO:tensorflow:loss = 12407.029, step = 12701 (0.430 sec)\n",
      "INFO:tensorflow:global_step/sec: 224.04\n",
      "INFO:tensorflow:loss = 11205.37, step = 12801 (0.446 sec)\n",
      "INFO:tensorflow:global_step/sec: 241.228\n",
      "INFO:tensorflow:loss = 5790.1885, step = 12901 (0.415 sec)\n",
      "INFO:tensorflow:global_step/sec: 244.14\n",
      "INFO:tensorflow:loss = 9749.346, step = 13001 (0.409 sec)\n",
      "INFO:tensorflow:global_step/sec: 247.39\n",
      "INFO:tensorflow:loss = 9445.552, step = 13101 (0.405 sec)\n",
      "INFO:tensorflow:Saving checkpoints for 13167 into taxi_trained/model.ckpt.\n",
      "INFO:tensorflow:Loss for final step: 9115.615.\n",
      "INFO:tensorflow:Calling model_fn.\n",
      "INFO:tensorflow:Done calling model_fn.\n",
      "INFO:tensorflow:Starting evaluation at 2019-05-18-20:02:31\n",
      "INFO:tensorflow:Graph was finalized.\n",
      "INFO:tensorflow:Restoring parameters from taxi_trained/model.ckpt-13167\n",
      "INFO:tensorflow:Running local_init_op.\n",
      "INFO:tensorflow:Done running local_init_op.\n",
      "INFO:tensorflow:Finished evaluation at 2019-05-18-20:02:31\n",
      "INFO:tensorflow:Saving dict for global step 13167: average_loss = 92.390976, global_step = 13167, loss = 11796.367\n",
      "RMSE on valid dataset = 9.6120223999\n"
     ]
    }
   ],
   "source": [
    "tf.logging.set_verbosity(tf.logging.INFO)\n",
    "shutil.rmtree(OUTDIR, ignore_errors = True) # start fresh each time\n",
    "model = tf.estimator.DNNRegressor(hidden_units = [32, 8, 2],\n",
    "      feature_columns = make_feature_cols(), model_dir = OUTDIR)\n",
    "model.train(input_fn = make_input_fn(df_train, num_epochs = 20));\n",
    "\n",
    "print_rmse(model, 'valid', df_valid)"
   ]
  },
  {
   "cell_type": "markdown",
   "metadata": {},
   "source": [
    "We are not beating our benchmark with either model ... what's up?  Well, we may be using TensorFlow for Machine Learning, but we are not yet using it well.  That's what the rest of this session is about!"
   ]
  },
  {
   "cell_type": "markdown",
   "metadata": {},
   "source": [
    "RMSE on benchmark dataset is > $10 (results will vary because of random seeds).\n",
    "\n",
    "This is not only way more than our goal of 6.00, but it doesn't even beat our distance-based rule's RMSE of 8.\n",
    "\n",
    "Fear not -- you have learned how to write a TensorFlow model, but not to do all the things that you will have to do to your ML model performant. We will do this in the next chapters. In this chapter though, we will get our TensorFlow model ready for these improvements."
   ]
  },
  {
   "cell_type": "markdown",
   "metadata": {},
   "source": [
    "# Improving ML\n",
    "\n",
    "## better data: Feature engineering\n",
    "\n",
    "### Day of week\n",
    "\n",
    "* date is available for training and inference\n",
    "* exact date (YYYY-MM-DD) is not that useful as we would have different values between training and inference\n",
    "* but we can extract the day of the week and there is likely a correlation between traffic on different dates\n",
    "* It's also important to note that this should not be a numerical feature. day=4 is not any better than day=2\n",
    "* We can code the dow as a categorical feature which will turn one input into 7 distinct features\n",
    "\n",
    "### Hour of Day\n",
    "\n",
    "* the pickup time likely also has an impact on traffic and fares (we know that there are time-based surcharges)\n",
    "* but we also know that there is likely not much difference between a pickup at 12:30 vs 12:42\n",
    "* so let's settle on coding the hour of the day as another category\n",
    "* furthermore we can create a feature-cross between hour-of-day and day-of-week\n",
    "\n",
    "### distance\n",
    "\n",
    "* we saw from our initial benchmark that the euclidian distance is a feature with a strong correlation\n",
    "* that distance can easily be calculated from the input long/lat values\n",
    "\n",
    "### pickup and dropoff\n",
    "\n",
    "* our dataset has very (too?) accurate location data\n",
    "* but we know that if pickup and dropoff are within a few city blocks, the fare should be about the same\n",
    "* an extra challenge we do not address: bridges and tolls\n",
    "* what we can easily do is to create a grid of buckets over the city's coordinates\n",
    "* we can make that a tunable parameter, starting with a 10x10 grid\n",
    "* additionally let's add a feature-cross of pickup and dropoff so that we can group similar trips together\n",
    "\n",
    "## hyperparameter tuning\n",
    "\n",
    "* we already saw that the layout of neurons plays a great role in finding the best DNN\n",
    "* likewise a different number of buckets for the location grid can have an impact\n",
    "* we are going to search for the optimal values\n",
    "\n",
    "## more data: scale to cloud training\n",
    "\n",
    "* DNNs generally create better predictions the larger the training dataset becomes\n",
    "* we will perform a few dry-runs locally\n",
    "* and then increase the amount of training data and fit on a cluster of machines in the cloud"
   ]
  },
  {
   "cell_type": "code",
   "execution_count": 24,
   "metadata": {},
   "outputs": [],
   "source": [
    "PROJECT = 'rostlab-181304'    # CHANGE THIS\n",
    "BUCKET = 'rostlab-181304-ml' # REPLACE WITH YOUR BUCKET NAME. Use a regional bucket in the region you selected.\n",
    "REGION = 'us-central1' # Choose an available region for Cloud MLE from https://cloud.google.com/ml-engine/docs/regions."
   ]
  },
  {
   "cell_type": "code",
   "execution_count": 25,
   "metadata": {},
   "outputs": [],
   "source": [
    "# for bash\n",
    "os.environ['PROJECT'] = PROJECT\n",
    "os.environ['BUCKET'] = BUCKET\n",
    "os.environ['REGION'] = REGION\n",
    "os.environ['TFVERSION'] = '1.8' "
   ]
  },
  {
   "cell_type": "code",
   "execution_count": 26,
   "metadata": {},
   "outputs": [
    {
     "name": "stderr",
     "output_type": "stream",
     "text": [
      "\n",
      "\n",
      "Your current Cloud SDK version is: 229.0.0\n",
      "You will be upgraded to version: 246.0.0\n",
      "\n",
      "+---------------------------------------------------------+\n",
      "|            These components will be updated.            |\n",
      "+---------------------------------+------------+----------+\n",
      "|               Name              |  Version   |   Size   |\n",
      "+---------------------------------+------------+----------+\n",
      "| BigQuery Command Line Tool      |     2.0.43 |  < 1 MiB |\n",
      "| Cloud SDK Core Libraries        | 2019.05.10 | 10.5 MiB |\n",
      "| Cloud Storage Command Line Tool |       4.38 |  3.8 MiB |\n",
      "| gcloud Alpha Commands           | 2019.02.22 |  < 1 MiB |\n",
      "| gcloud Beta Commands            | 2019.02.22 |  < 1 MiB |\n",
      "| gcloud cli dependencies         | 2019.05.03 |  2.4 MiB |\n",
      "+---------------------------------+------------+----------+\n",
      "\n",
      "A lot has changed since your last upgrade.  For the latest full release notes,\n",
      "please visit:\n",
      "  https://cloud.google.com/sdk/release_notes\n",
      "\n",
      "Do you want to continue (Y/n)?  \n",
      "#============================================================#\n",
      "#= Creating update staging area                             =#\n",
      "#============================================================#\n",
      "#= Uninstalling: BigQuery Command Line Tool                 =#\n",
      "#============================================================#\n",
      "#= Uninstalling: Cloud SDK Core Libraries                   =#\n",
      "#============================================================#\n",
      "#= Uninstalling: Cloud Storage Command Line Tool            =#\n",
      "#============================================================#\n",
      "#= Uninstalling: gcloud Alpha Commands                      =#\n",
      "#============================================================#\n",
      "#= Uninstalling: gcloud Beta Commands                       =#\n",
      "#============================================================#\n",
      "#= Uninstalling: gcloud cli dependencies                    =#\n",
      "#============================================================#\n",
      "#= Installing: BigQuery Command Line Tool                   =#\n",
      "#============================================================#\n",
      "#= Installing: Cloud SDK Core Libraries                     =#\n",
      "#============================================================#\n",
      "#= Installing: Cloud Storage Command Line Tool              =#\n",
      "#============================================================#\n",
      "#= Installing: gcloud Alpha Commands                        =#\n",
      "#============================================================#\n",
      "#= Installing: gcloud Beta Commands                         =#\n",
      "#============================================================#\n",
      "#= Installing: gcloud cli dependencies                      =#\n",
      "#============================================================#\n",
      "#= Creating backup and activating new installation          =#\n",
      "#============================================================#\n",
      "\n",
      "Performing post processing steps...\n",
      ".........................................done.\n",
      "\n",
      "Update done!\n",
      "\n",
      "To revert your SDK to the previously installed version, you may run:\n",
      "  $ gcloud components update --version 229.0.0\n",
      "\n"
     ]
    }
   ],
   "source": [
    "%%bash\n",
    "## ensure gcloud is up to date\n",
    "gcloud components update\n",
    "\n",
    "gcloud config set project $PROJECT\n",
    "gcloud config set compute/region $REGION\n",
    "\n",
    "## ensure we predict locally with our current Python environment\n",
    "gcloud config set ml_engine/local_python `which python`"
   ]
  },
  {
   "cell_type": "markdown",
   "metadata": {},
   "source": [
    "## Develop model with new inputs\n",
    "\n",
    "Download the first shard of a preprocessed data to enable local development. We could create these files ourselves but they are also available on a public bucket."
   ]
  },
  {
   "cell_type": "code",
   "execution_count": 34,
   "metadata": {},
   "outputs": [
    {
     "name": "stdout",
     "output_type": "stream",
     "text": [
      "   339462 sample/train.csv\n",
      "   538045 sample/valid.csv\n",
      "   877507 total\n"
     ]
    },
    {
     "name": "stderr",
     "output_type": "stream",
     "text": [
      "Copying gs://rostlab-181304-ml/taxifare/taxi_preproc/train.csv-00000-of-00002...\n",
      "/ [0 files][    0.0 B/ 37.0 MiB]                                                \r",
      "-\r",
      "- [1 files][ 37.0 MiB/ 37.0 MiB]                                                \r\n",
      "Operation completed over 1 objects/37.0 MiB.                                     \n",
      "Copying gs://rostlab-181304-ml/taxifare/taxi_preproc/valid.csv-00000-of-00001...\n",
      "/ [0 files][    0.0 B/ 58.6 MiB]                                                \r",
      "-\r",
      "- [1 files][ 58.6 MiB/ 58.6 MiB]                                                \r",
      "\\\r\n",
      "Operation completed over 1 objects/58.6 MiB.                                     \n"
     ]
    }
   ],
   "source": [
    "%%bash\n",
    "if [ -d sample ]; then\n",
    "  rm -rf sample\n",
    "fi\n",
    "mkdir sample\n",
    "\n",
    "gsutil cp \"gs://$BUCKET/taxifare/taxi_preproc/train.csv-00000-of*\" sample/train.csv\n",
    "gsutil cp \"gs://$BUCKET/taxifare/taxi_preproc/valid.csv-00000-of*\" sample/valid.csv\n",
    "wc -l sample/*"
   ]
  },
  {
   "cell_type": "markdown",
   "metadata": {},
   "source": [
    "We have two new inputs in the INPUT_COLUMNS, three engineered features, and the estimator involves bucketization and feature crosses."
   ]
  },
  {
   "cell_type": "code",
   "execution_count": 35,
   "metadata": {},
   "outputs": [
    {
     "name": "stdout",
     "output_type": "stream",
     "text": [
      "INPUT_COLUMNS = [\n",
      "    # Define features\n",
      "    tf.feature_column.categorical_column_with_vocabulary_list('dayofweek', vocabulary_list = ['Sun', 'Mon', 'Tues', 'Wed', 'Thu', 'Fri', 'Sat']),\n",
      "    tf.feature_column.categorical_column_with_identity('hourofday', num_buckets = 24),\n",
      "\n",
      "    # Numeric columns\n",
      "    tf.feature_column.numeric_column('pickuplon'),\n",
      "    tf.feature_column.numeric_column('pickuplat'),\n",
      "    tf.feature_column.numeric_column('dropofflat'),\n",
      "    tf.feature_column.numeric_column('dropofflon'),\n",
      "    tf.feature_column.numeric_column('passengers'),\n",
      "    \n",
      "    # Engineered features that are created in the input_fn\n",
      "    tf.feature_column.numeric_column('latdiff'),\n",
      "    tf.feature_column.numeric_column('londiff'),\n",
      "    tf.feature_column.numeric_column('euclidean')\n",
      "]\n",
      "\n",
      "# Build the estimator\n",
      "def build_estimator(model_dir, nbuckets, hidden_units):\n",
      "    \"\"\"\n"
     ]
    }
   ],
   "source": [
    "%%bash\n",
    "grep -A 20 \"INPUT_COLUMNS =\" taxifare/trainer/model.py"
   ]
  },
  {
   "cell_type": "code",
   "execution_count": 30,
   "metadata": {},
   "outputs": [
    {
     "name": "stdout",
     "output_type": "stream",
     "text": [
      "def build_estimator(model_dir, nbuckets, hidden_units):\n",
      "    \"\"\"\n",
      "     Build an estimator starting from INPUT COLUMNS.\n",
      "     These include feature transformations and synthetic features.\n",
      "     The model is a wide-and-deep model.\n",
      "  \"\"\"\n",
      "\n",
      "    # Input columns\n",
      "    (dayofweek, hourofday, latdiff, londiff, euclidean, plon, plat, dlon, dlat, pcount) = INPUT_COLUMNS\n",
      "\n",
      "    # Bucketize the lats & lons\n",
      "    latbuckets = np.linspace(38.0, 42.0, nbuckets).tolist()\n",
      "    lonbuckets = np.linspace(-76.0, -72.0, nbuckets).tolist()\n",
      "    b_plat = tf.feature_column.bucketized_column(plat, latbuckets)\n",
      "    b_dlat = tf.feature_column.bucketized_column(dlat, latbuckets)\n",
      "    b_plon = tf.feature_column.bucketized_column(plon, lonbuckets)\n",
      "    b_dlon = tf.feature_column.bucketized_column(dlon, lonbuckets)\n",
      "\n",
      "    # Feature cross\n",
      "    ploc = tf.feature_column.crossed_column([b_plat, b_plon], nbuckets * nbuckets)\n",
      "    dloc = tf.feature_column.crossed_column([b_dlat, b_dlon], nbuckets * nbuckets)\n",
      "    pd_pair = tf.feature_column.crossed_column([ploc, dloc], nbuckets ** 4 )\n",
      "    day_hr =  tf.feature_column.crossed_column([dayofweek, hourofday], 24 * 7)\n",
      "\n",
      "    # Wide columns and deep columns.\n",
      "    wide_columns = [\n",
      "        # Feature crosses\n",
      "        dloc, ploc, pd_pair,\n",
      "        day_hr,\n",
      "\n",
      "        # Sparse columns\n",
      "        dayofweek, hourofday,\n",
      "\n",
      "        # Anything with a linear relationship\n",
      "        pcount \n",
      "    ]\n",
      "\n",
      "    deep_columns = [\n",
      "        # Embedding_column to \"group\" together ...\n",
      "        tf.feature_column.embedding_column(pd_pair, 10),\n",
      "        tf.feature_column.embedding_column(day_hr, 10),\n",
      "\n",
      "        # Numeric columns\n",
      "        plat, plon, dlat, dlon,\n",
      "        latdiff, londiff, euclidean\n",
      "    ]\n",
      "    \n",
      "    return tf.estimator.DNNLinearCombinedRegressor(\n",
      "        model_dir = model_dir,\n",
      "        linear_feature_columns = wide_columns,\n",
      "        dnn_feature_columns = deep_columns,\n",
      "--\n",
      "    estimator = build_estimator(args['output_dir'], args['nbuckets'], args['hidden_units'].split(' '))\n",
      "    train_spec = tf.estimator.TrainSpec(\n",
      "        input_fn = read_dataset(\n",
      "            filename = args['train_data_paths'],\n",
      "            mode = tf.estimator.ModeKeys.TRAIN,\n",
      "            batch_size = args['train_batch_size']),\n",
      "        max_steps = args['train_steps'])\n",
      "    exporter = tf.estimator.LatestExporter('exporter', serving_input_fn)\n",
      "    eval_spec = tf.estimator.EvalSpec(\n",
      "        input_fn = read_dataset(\n",
      "            filename = args['eval_data_paths'],\n",
      "            mode = tf.estimator.ModeKeys.EVAL,\n",
      "            batch_size = args['eval_batch_size']),\n",
      "        steps = None,\n",
      "        exporters = exporter)\n",
      "    tf.estimator.train_and_evaluate(estimator, train_spec, eval_spec)\n",
      "\n",
      "# If we want to use TFRecords instead of CSV\n",
      "def gzip_reader_fn():\n",
      "    return tf.TFRecordReader(options=tf.python_io.TFRecordOptions(\n",
      "            compression_type = tf.python_io.TFRecordCompressionType.GZIP))\n",
      "\n",
      "def generate_tfrecord_input_fn(data_paths, num_epochs = None, batch_size = 512, mode = tf.estimator.ModeKeys.TRAIN):\n",
      "    def get_input_features():\n",
      "        # Read the tfrecords. Same input schema as in preprocess\n",
      "        input_schema = {}\n",
      "        if mode != tf.estimator.ModeKeys.INFER:\n",
      "            input_schema[LABEL_COLUMN] = tf.FixedLenFeature(shape = [1], dtype = tf.float32, default_value = 0.0)\n",
      "        for name in ['dayofweek', 'key']:\n",
      "            input_schema[name] = tf.FixedLenFeature(shape = [1], dtype = tf.string, default_value = 'null')\n",
      "        for name in ['hourofday']:\n",
      "            input_schema[name] = tf.FixedLenFeature(shape = [1], dtype = tf.int64, default_value = 0)\n",
      "        for name in SCALE_COLUMNS:\n",
      "            input_schema[name] = tf.FixedLenFeature(shape = [1], dtype = tf.float32, default_value = 0.0)\n",
      "\n",
      "        # How? \n",
      "        keys, features = tf.contrib.learn.io.read_keyed_batch_features(\n",
      "            data_paths[0] if len(data_paths) == 1 else data_paths,\n",
      "            batch_size,\n",
      "            input_schema,\n",
      "            reader = gzip_reader_fn,\n",
      "            reader_num_threads = 4,\n",
      "            queue_capacity = batch_size * 2,\n",
      "            randomize_input = (mode != tf.estimator.ModeKeys.EVAL),\n",
      "            num_epochs = (1 if mode == tf.estimator.ModeKeys.EVAL else num_epochs))\n",
      "        target = features.pop(LABEL_COLUMN)\n",
      "        features[KEY_FEATURE_COLUMN] = keys\n",
      "        return add_engineered(features), target\n",
      "\n",
      "    # Return a function to input the features into the model from a data path.\n",
      "    return get_input_features\n"
     ]
    }
   ],
   "source": [
    "%%bash\n",
    "grep -A 50 \"build_estimator\" taxifare/trainer/model.py"
   ]
  },
  {
   "cell_type": "code",
   "execution_count": 31,
   "metadata": {},
   "outputs": [
    {
     "name": "stdout",
     "output_type": "stream",
     "text": [
      "def add_engineered(features):\n",
      "    # this is how you can do feature engineering in TensorFlow\n",
      "    lat1 = features['pickuplat']\n",
      "    lat2 = features['dropofflat']\n",
      "    lon1 = features['pickuplon']\n",
      "    lon2 = features['dropofflon']\n",
      "    latdiff = (lat1 - lat2)\n",
      "    londiff = (lon1 - lon2)\n",
      "    \n",
      "    # set features for distance with sign that indicates direction\n",
      "    features['latdiff'] = latdiff\n",
      "    features['londiff'] = londiff\n",
      "    dist = tf.sqrt(latdiff * latdiff + londiff * londiff)\n",
      "    features['euclidean'] = dist\n",
      "    return features\n",
      "\n",
      "--\n",
      "    return tf.estimator.export.ServingInputReceiver(add_engineered(features), feature_placeholders)\n",
      "\n",
      "# Create input function to load data into datasets\n",
      "def read_dataset(filename, mode, batch_size = 512):\n",
      "    def _input_fn():\n",
      "        def decode_csv(value_column):\n",
      "            columns = tf.decode_csv(value_column, record_defaults = DEFAULTS)\n",
      "            features = dict(zip(CSV_COLUMNS, columns))\n",
      "            label = features.pop(LABEL_COLUMN)\n",
      "            return add_engineered(features), label\n",
      "        \n",
      "        # Create list of files that match pattern\n",
      "        file_list = tf.gfile.Glob(filename)\n",
      "\n",
      "        # Create dataset from file list\n",
      "        dataset = tf.data.TextLineDataset(file_list).map(decode_csv)\n",
      "\n",
      "        if mode == tf.estimator.ModeKeys.TRAIN:\n",
      "            num_epochs = None # indefinitely\n",
      "            dataset = dataset.shuffle(buffer_size = 10 * batch_size)\n",
      "        else:\n",
      "            num_epochs = 1 # end-of-input after this\n",
      "\n",
      "        dataset = dataset.repeat(num_epochs).batch(batch_size)\n",
      "        batch_features, batch_labels = dataset.make_one_shot_iterator().get_next()\n",
      "--\n",
      "        return add_engineered(features), target\n",
      "\n",
      "    # Return a function to input the features into the model from a data path.\n",
      "    return get_input_features\n",
      "\n",
      "def get_eval_metrics():\n",
      "    return {\n",
      "        'rmse': tflearn.MetricSpec(metric_fn=metrics.streaming_root_mean_squared_error),\n",
      "        'training/hptuning/metric': tflearn.MetricSpec(metric_fn=metrics.streaming_root_mean_squared_error),\n",
      "    }\n"
     ]
    }
   ],
   "source": [
    "%%bash\n",
    "grep -A 15 \"add_engineered(\" taxifare/trainer/model.py"
   ]
  },
  {
   "cell_type": "code",
   "execution_count": 36,
   "metadata": {},
   "outputs": [
    {
     "name": "stderr",
     "output_type": "stream",
     "text": [
      "/usr/local/envs/py2env/lib/python2.7/site-packages/h5py/__init__.py:36: FutureWarning: Conversion of the second argument of issubdtype from `float` to `np.floating` is deprecated. In future, it will be treated as `np.float64 == np.dtype(float).type`.\n",
      "  from ._conv import register_converters as _register_converters\n",
      "INFO:tensorflow:Using default config.\n",
      "INFO:tensorflow:Using config: {'_save_checkpoints_secs': 600, '_session_config': None, '_keep_checkpoint_max': 5, '_task_type': 'worker', '_train_distribute': None, '_is_chief': True, '_cluster_spec': <tensorflow.python.training.server_lib.ClusterSpec object at 0x7f71407fd790>, '_evaluation_master': '', '_save_checkpoints_steps': None, '_keep_checkpoint_every_n_hours': 10000, '_service': None, '_num_ps_replicas': 0, '_tf_random_seed': None, '_master': '', '_num_worker_replicas': 1, '_task_id': 0, '_log_step_count_steps': 100, '_model_dir': '/content/datalab/ml-live/taxi_trained', '_global_id_in_cluster': 0, '_save_summary_steps': 100}\n",
      "INFO:tensorflow:Running training and evaluation locally (non-distributed).\n",
      "INFO:tensorflow:Start train and evaluate loop. The evaluate will happen after 600 secs (eval_spec.throttle_secs) or training is finished.\n",
      "INFO:tensorflow:Calling model_fn.\n",
      "INFO:tensorflow:Done calling model_fn.\n",
      "INFO:tensorflow:Create CheckpointSaverHook.\n",
      "INFO:tensorflow:Graph was finalized.\n",
      "2019-05-18 20:38:55.575019: I tensorflow/core/platform/cpu_feature_guard.cc:140] Your CPU supports instructions that this TensorFlow binary was not compiled to use: AVX2 FMA\n",
      "INFO:tensorflow:Running local_init_op.\n",
      "INFO:tensorflow:Done running local_init_op.\n",
      "INFO:tensorflow:Saving checkpoints for 1 into /content/datalab/ml-live/taxi_trained/model.ckpt.\n",
      "INFO:tensorflow:loss = 25060.51, step = 1\n",
      "INFO:tensorflow:Saving checkpoints for 10 into /content/datalab/ml-live/taxi_trained/model.ckpt.\n",
      "INFO:tensorflow:Loss for final step: 77676.875.\n",
      "INFO:tensorflow:Calling model_fn.\n",
      "INFO:tensorflow:Done calling model_fn.\n",
      "INFO:tensorflow:Starting evaluation at 2019-05-18-20:39:01\n",
      "INFO:tensorflow:Graph was finalized.\n",
      "INFO:tensorflow:Restoring parameters from /content/datalab/ml-live/taxi_trained/model.ckpt-10\n",
      "INFO:tensorflow:Running local_init_op.\n",
      "INFO:tensorflow:Done running local_init_op.\n",
      "INFO:tensorflow:Finished evaluation at 2019-05-18-20:39:34\n",
      "INFO:tensorflow:Saving dict for global step 10: average_loss = 89.67035, global_step = 10, loss = 45905.504\n",
      "INFO:tensorflow:Calling model_fn.\n",
      "INFO:tensorflow:Done calling model_fn.\n",
      "INFO:tensorflow:Signatures INCLUDED in export for Classify: None\n",
      "INFO:tensorflow:Signatures INCLUDED in export for Regress: None\n",
      "INFO:tensorflow:Signatures INCLUDED in export for Predict: ['predict']\n",
      "INFO:tensorflow:Signatures EXCLUDED from export because they cannot be be served via TensorFlow Serving APIs:\n",
      "INFO:tensorflow:'serving_default' : Regression input must be a single string Tensor; got {'dayofweek': <tf.Tensor 'Placeholder_8:0' shape=(?,) dtype=string>, 'passengers': <tf.Tensor 'Placeholder_4:0' shape=(?,) dtype=float32>, 'euclidean': <tf.Tensor 'Placeholder_7:0' shape=(?,) dtype=float32>, 'latdiff': <tf.Tensor 'Placeholder_5:0' shape=(?,) dtype=float32>, 'pickuplat': <tf.Tensor 'Placeholder_1:0' shape=(?,) dtype=float32>, 'dropofflat': <tf.Tensor 'Placeholder_2:0' shape=(?,) dtype=float32>, 'londiff': <tf.Tensor 'Placeholder_6:0' shape=(?,) dtype=float32>, 'hourofday': <tf.Tensor 'Placeholder_9:0' shape=(?,) dtype=int32>, 'pickuplon': <tf.Tensor 'Placeholder:0' shape=(?,) dtype=float32>, 'dropofflon': <tf.Tensor 'Placeholder_3:0' shape=(?,) dtype=float32>}\n",
      "INFO:tensorflow:'regression' : Regression input must be a single string Tensor; got {'dayofweek': <tf.Tensor 'Placeholder_8:0' shape=(?,) dtype=string>, 'passengers': <tf.Tensor 'Placeholder_4:0' shape=(?,) dtype=float32>, 'euclidean': <tf.Tensor 'Placeholder_7:0' shape=(?,) dtype=float32>, 'latdiff': <tf.Tensor 'Placeholder_5:0' shape=(?,) dtype=float32>, 'pickuplat': <tf.Tensor 'Placeholder_1:0' shape=(?,) dtype=float32>, 'dropofflat': <tf.Tensor 'Placeholder_2:0' shape=(?,) dtype=float32>, 'londiff': <tf.Tensor 'Placeholder_6:0' shape=(?,) dtype=float32>, 'hourofday': <tf.Tensor 'Placeholder_9:0' shape=(?,) dtype=int32>, 'pickuplon': <tf.Tensor 'Placeholder:0' shape=(?,) dtype=float32>, 'dropofflon': <tf.Tensor 'Placeholder_3:0' shape=(?,) dtype=float32>}\n",
      "WARNING:tensorflow:Export includes no default signature!\n",
      "INFO:tensorflow:Restoring parameters from /content/datalab/ml-live/taxi_trained/model.ckpt-10\n",
      "INFO:tensorflow:Assets added to graph.\n",
      "INFO:tensorflow:No assets to write.\n",
      "INFO:tensorflow:SavedModel written to: /content/datalab/ml-live/taxi_trained/export/exporter/temp-1558211975/saved_model.pb\n"
     ]
    }
   ],
   "source": [
    "%%bash\n",
    "rm -rf taxifare.tar.gz taxi_trained\n",
    "export PYTHONPATH=${PYTHONPATH}:${PWD}/taxifare\n",
    "python -m trainer.task \\\n",
    "  --train_data_paths=${PWD}/sample/train.csv \\\n",
    "  --eval_data_paths=${PWD}/sample/valid.csv  \\\n",
    "  --output_dir=${PWD}/taxi_trained \\\n",
    "  --train_steps=10 \\\n",
    "  --job-dir=/tmp"
   ]
  },
  {
   "cell_type": "code",
   "execution_count": 37,
   "metadata": {},
   "outputs": [
    {
     "name": "stdout",
     "output_type": "stream",
     "text": [
      "RMSE = 8.60232526704\n"
     ]
    }
   ],
   "source": [
    "print('RMSE = {}'.format(np.sqrt(74)))"
   ]
  },
  {
   "cell_type": "markdown",
   "metadata": {},
   "source": [
    "## 5. Train on cloud\n",
    "\n",
    "This will take <b> 5-10 minutes </b> even though the prompt immediately returns after the job is submitted. Monitor job progress on the [Cloud Console, in the ML Engine](https://console.cloud.google.com/mlengine) section and wait for the training job to complete."
   ]
  },
  {
   "cell_type": "code",
   "execution_count": 39,
   "metadata": {},
   "outputs": [
    {
     "name": "stdout",
     "output_type": "stream",
     "text": [
      "gs://rostlab-181304-ml/taxifare/taxi_trained us-central1 ml_live_190518_204117\n",
      "jobId: ml_live_190518_204117\n",
      "state: QUEUED\n"
     ]
    },
    {
     "name": "stderr",
     "output_type": "stream",
     "text": [
      "CommandException: 1 files/objects could not be removed.\n",
      "Job [ml_live_190518_204117] submitted successfully.\n",
      "Your job is still active. You may view the status of your job with the command\n",
      "\n",
      "  $ gcloud ai-platform jobs describe ml_live_190518_204117\n",
      "\n",
      "or continue streaming the logs with the command\n",
      "\n",
      "  $ gcloud ai-platform jobs stream-logs ml_live_190518_204117\n"
     ]
    }
   ],
   "source": [
    "%%bash\n",
    "OUTDIR=gs://${BUCKET}/taxifare/taxi_trained\n",
    "JOBNAME=ml_live_$(date -u +%y%m%d_%H%M%S)\n",
    "echo $OUTDIR $REGION $JOBNAME\n",
    "gsutil -m rm -rf $OUTDIR\n",
    "gcloud ai-platform jobs submit training $JOBNAME \\\n",
    "  --region=$REGION \\\n",
    "  --module-name=trainer.task \\\n",
    "  --package-path=${PWD}/taxifare/trainer \\\n",
    "  --job-dir=$OUTDIR \\\n",
    "  --staging-bucket=gs://$BUCKET \\\n",
    "  --scale-tier=STANDARD_1 \\\n",
    "  --runtime-version=$TFVERSION \\\n",
    "  -- \\\n",
    "  --train_data_paths=\"gs://$BUCKET/taxifare/taxi_preproc/train.csv-00000-of-*\" \\\n",
    "  --eval_data_paths=\"gs://%BUCKET/taxifare/taxi_preproc/valid.csv-00000-of-*\"  \\\n",
    "  --train_steps=5000 \\\n",
    "  --output_dir=$OUTDIR"
   ]
  },
  {
   "cell_type": "markdown",
   "metadata": {},
   "source": [
    "The RMSE is now 8.33249, an improvement over the 9.3 that we were getting ... of course, we won't know until we train/validate on a larger dataset. Still, this is promising. But before we do that, let's do hyper-parameter tuning.\n",
    "\n",
    "<b>Use the Cloud Console link to monitor the job and do NOT proceed until the job is done.</b>"
   ]
  },
  {
   "cell_type": "markdown",
   "metadata": {},
   "source": [
    "## start tensorboard"
   ]
  },
  {
   "cell_type": "code",
   "execution_count": 42,
   "metadata": {},
   "outputs": [
    {
     "name": "stdout",
     "output_type": "stream",
     "text": [
      "gs://rostlab-181304-ml/taxifare/taxi_trained\n"
     ]
    },
    {
     "data": {
      "text/html": [
       "<p>TensorBoard was started successfully with pid 8393. Click <a href=\"/_proxy/51503/\" target=\"_blank\">here</a> to access it.</p>"
      ]
     },
     "metadata": {},
     "output_type": "display_data"
    },
    {
     "data": {
      "text/plain": [
       "8393"
      ]
     },
     "execution_count": 42,
     "metadata": {},
     "output_type": "execute_result"
    }
   ],
   "source": [
    "from google.datalab.ml import TensorBoard\n",
    "OUTDIR='gs://{0}/taxifare/taxi_trained'.format(BUCKET)\n",
    "print(OUTDIR)\n",
    "TensorBoard().start(OUTDIR)"
   ]
  },
  {
   "cell_type": "markdown",
   "metadata": {},
   "source": [
    "## stop tensorboard"
   ]
  },
  {
   "cell_type": "code",
   "execution_count": 41,
   "metadata": {},
   "outputs": [
    {
     "name": "stdout",
     "output_type": "stream",
     "text": [
      "Stopped TensorBoard with pid 8207\n"
     ]
    }
   ],
   "source": [
    "pids_df = TensorBoard.list()\n",
    "if not pids_df.empty:\n",
    "    for pid in pids_df['pid']:\n",
    "        TensorBoard().stop(pid)\n",
    "        print('Stopped TensorBoard with pid {}'.format(pid))"
   ]
  },
  {
   "cell_type": "markdown",
   "metadata": {},
   "source": [
    "# Hyper-parameter tune\n",
    "\n",
    "Training a DNN supports a number of parameters such as the number of hidden layers, training batch size etc. These have a significant impact on a model's performance. Hypertuning is the process of iteratively trying out several options to come up with the optimal values."
   ]
  },
  {
   "cell_type": "markdown",
   "metadata": {},
   "source": [
    "## Command-line parameters to task.py\n",
    "\n",
    "Note the command-line parameters to task.py.  These are the things that could be hypertuned if we wanted."
   ]
  },
  {
   "cell_type": "code",
   "execution_count": 44,
   "metadata": {},
   "outputs": [
    {
     "name": "stdout",
     "output_type": "stream",
     "text": [
      "    parser.add_argument(\r\n",
      "        '--train_data_paths',\r\n",
      "        help = 'GCS or local path to training data',\r\n",
      "--\r\n",
      "    parser.add_argument(\r\n",
      "        '--train_batch_size',\r\n",
      "        help = 'Batch size for training steps',\r\n",
      "--\r\n",
      "    parser.add_argument(\r\n",
      "        '--eval_batch_size',\r\n",
      "        help = 'Batch size for evaluation steps',\r\n",
      "--\r\n",
      "    parser.add_argument(\r\n",
      "        '--train_steps',\r\n",
      "        help = 'Steps to run the training job for',\r\n",
      "--\r\n",
      "    parser.add_argument(\r\n",
      "        '--eval_steps',\r\n",
      "        help = 'Number of steps to run evalution for at each checkpoint',\r\n",
      "--\r\n",
      "    parser.add_argument(\r\n",
      "        '--eval_data_paths',\r\n",
      "        help = 'GCS or local path to evaluation data',\r\n",
      "--\r\n",
      "    parser.add_argument(\r\n",
      "        '--nbuckets',\r\n",
      "        help = 'Number of buckets into which to discretize lats and lons',\r\n",
      "--\r\n",
      "    parser.add_argument(\r\n",
      "        '--hidden_units',\r\n",
      "        help = 'Hidden layer sizes to use for DNN feature columns -- provide space-separated layers',\r\n",
      "--\r\n",
      "    parser.add_argument(\r\n",
      "        '--output_dir',\r\n",
      "        help = 'GCS location to write checkpoints and export models',\r\n",
      "--\r\n",
      "    parser.add_argument(\r\n",
      "        '--job-dir',\r\n",
      "        help = 'this model ignores this field, but it is required by gcloud',\r\n",
      "--\r\n",
      "    parser.add_argument(\r\n",
      "        '--eval_delay_secs',\r\n",
      "        help = 'How long to wait before running first evaluation',\r\n",
      "--\r\n",
      "    parser.add_argument(\r\n",
      "        '--min_eval_frequency',\r\n",
      "        help = 'Minimum number of training steps between evaluations',\r\n",
      "--\r\n",
      "    parser.add_argument(\r\n",
      "        '--format',\r\n",
      "        help = 'Is the input data format csv or tfrecord?',\r\n"
     ]
    }
   ],
   "source": [
    "!grep -A 2 add_argument taxifare/trainer/task.py"
   ]
  },
  {
   "cell_type": "markdown",
   "metadata": {},
   "source": [
    "## Evaluation metric\n",
    "\n",
    "We add a special evaluation metric. It could be any objective function we want."
   ]
  },
  {
   "cell_type": "code",
   "execution_count": 45,
   "metadata": {},
   "outputs": [
    {
     "name": "stdout",
     "output_type": "stream",
     "text": [
      "def get_eval_metrics():\r\n",
      "    return {\r\n",
      "        'rmse': tflearn.MetricSpec(metric_fn=metrics.streaming_root_mean_squared_error),\r\n",
      "        'training/hptuning/metric': tflearn.MetricSpec(metric_fn=metrics.streaming_root_mean_squared_error),\r\n",
      "    }\r\n"
     ]
    }
   ],
   "source": [
    "!grep -A 5 get_eval_metrics taxifare/trainer/model.py"
   ]
  },
  {
   "cell_type": "markdown",
   "metadata": {},
   "source": [
    "## Add trial id to not overwrite existing results"
   ]
  },
  {
   "cell_type": "code",
   "execution_count": 1,
   "metadata": {},
   "outputs": [
    {
     "name": "stdout",
     "output_type": "stream",
     "text": [
      "    # Append trial_id to path if we are doing hptuning\r\n",
      "    # This code can be removed if you are not using hyperparameter tuning\r\n",
      "    output_dir = os.path.join(\r\n",
      "        output_dir,\r\n",
      "        json.loads(\r\n",
      "            os.environ.get('TF_CONFIG', '{}')\r\n",
      "        ).get('task', {}).get('trial', '')\r\n",
      "    )\r\n",
      "\r\n",
      "    # Run the training job:\r\n",
      "    try:\r\n",
      "        model.train_and_evaluate(arguments)\r\n"
     ]
    }
   ],
   "source": [
    "!grep -A 5 \"trial\" taxifare/trainer/task.py"
   ]
  },
  {
   "cell_type": "markdown",
   "metadata": {},
   "source": [
    "## Create hyper-parameter configuration\n",
    "\n",
    "The file specifies the search region in parameter space.  Cloud MLE carries out a smart search algorithm within these constraints (i.e. it does not try out every single value)."
   ]
  },
  {
   "cell_type": "code",
   "execution_count": 79,
   "metadata": {},
   "outputs": [
    {
     "name": "stdout",
     "output_type": "stream",
     "text": [
      "Overwriting hyperparam.yaml\n"
     ]
    }
   ],
   "source": [
    "%writefile hyperparam.yaml\n",
    "trainingInput:\n",
    "  scaleTier: STANDARD_1\n",
    "  hyperparameters:\n",
    "    goal: MINIMIZE\n",
    "    maxTrials: 30\n",
    "    maxParallelTrials: 3\n",
    "    hyperparameterMetricTag: rmse\n",
    "    params:\n",
    "    - parameterName: train_batch_size\n",
    "      type: INTEGER\n",
    "      minValue: 64\n",
    "      maxValue: 512\n",
    "      scaleType: UNIT_LOG_SCALE\n",
    "    - parameterName: nbuckets\n",
    "      type: INTEGER\n",
    "      minValue: 10\n",
    "      maxValue: 20\n",
    "      scaleType: UNIT_LINEAR_SCALE\n",
    "    - parameterName: hidden_units\n",
    "      type: CATEGORICAL\n",
    "      categoricalValues: [\"128 32\", \"256 128 16\", \"64 64 64 8\"]       "
   ]
  },
  {
   "cell_type": "markdown",
   "metadata": {},
   "source": [
    "## Run the HP training job\n",
    "we just add the new HP config to the existing job"
   ]
  },
  {
   "cell_type": "code",
   "execution_count": 80,
   "metadata": {},
   "outputs": [
    {
     "name": "stdout",
     "output_type": "stream",
     "text": [
      "gs://rostlab-181304-ml/taxifare/taxi_hypertrain us-central1 ml_live_hp_181129_192211\n",
      "jobId: ml_live_hp_181129_192211\n",
      "state: QUEUED\n"
     ]
    },
    {
     "name": "stderr",
     "output_type": "stream",
     "text": [
      "CommandException: 1 files/objects could not be removed.\n",
      "Job [ml_live_hp_181129_192211] submitted successfully.\n",
      "Your job is still active. You may view the status of your job with the command\n",
      "\n",
      "  $ gcloud ml-engine jobs describe ml_live_hp_181129_192211\n",
      "\n",
      "or continue streaming the logs with the command\n",
      "\n",
      "  $ gcloud ml-engine jobs stream-logs ml_live_hp_181129_192211\n"
     ]
    }
   ],
   "source": [
    "%%bash\n",
    "OUTDIR=gs://${BUCKET}/taxifare/taxi_hypertrain\n",
    "JOBNAME=ml_live_hp_$(date -u +%y%m%d_%H%M%S)\n",
    "echo $OUTDIR $REGION $JOBNAME\n",
    "gsutil -m rm -rf $OUTDIR\n",
    "gcloud ai-platform jobs submit training $JOBNAME \\\n",
    "   --region=$REGION \\\n",
    "   --module-name=trainer.task \\\n",
    "   --package-path=${PWD}/taxifare/trainer \\\n",
    "   --job-dir=$OUTDIR \\\n",
    "   --staging-bucket=gs://$BUCKET \\\n",
    "   --scale-tier=STANDARD_1 \\\n",
    "   --runtime-version=$TFVERSION \\\n",
    "   --config=hyperparam.yaml \\\n",
    "   -- \\\n",
    "   --train_data_paths=\"gs://${BUCKET}/taxifare/taxi_preproc/train.csv-00000-of-*\" \\\n",
    "   --eval_data_paths=\"gs://${BUCKET}/taxifare/taxi_preproc/valid.csv-00000-of-*\"  \\\n",
    "   --output_dir=$OUTDIR \\\n",
    "   --train_steps=2500"
   ]
  },
  {
   "cell_type": "markdown",
   "metadata": {},
   "source": [
    "## start tensorboard"
   ]
  },
  {
   "cell_type": "code",
   "execution_count": 76,
   "metadata": {},
   "outputs": [
    {
     "name": "stdout",
     "output_type": "stream",
     "text": [
      "gs://rostlab-181304-ml/taxifare/taxi_hypertrain/1\n"
     ]
    },
    {
     "data": {
      "text/html": [
       "<p>TensorBoard was started successfully with pid 13833. Click <a href=\"/_proxy/38943/\" target=\"_blank\">here</a> to access it.</p>"
      ]
     },
     "metadata": {},
     "output_type": "display_data"
    },
    {
     "data": {
      "text/plain": [
       "13833"
      ]
     },
     "execution_count": 76,
     "metadata": {},
     "output_type": "execute_result"
    }
   ],
   "source": [
    "from google.datalab.ml import TensorBoard\n",
    "OUTDIR='gs://{0}/taxifare/taxi_hypertrain'.format(BUCKET)\n",
    "print(OUTDIR)\n",
    "TensorBoard().start(OUTDIR)"
   ]
  },
  {
   "cell_type": "markdown",
   "metadata": {},
   "source": [
    "## stop tensorboard"
   ]
  },
  {
   "cell_type": "code",
   "execution_count": 75,
   "metadata": {},
   "outputs": [
    {
     "name": "stdout",
     "output_type": "stream",
     "text": [
      "Stopped TensorBoard with pid 13702\n"
     ]
    }
   ],
   "source": [
    "pids_df = TensorBoard.list()\n",
    "if not pids_df.empty:\n",
    "    for pid in pids_df['pid']:\n",
    "        TensorBoard().stop(pid)\n",
    "        print('Stopped TensorBoard with pid {}'.format(pid))"
   ]
  },
  {
   "cell_type": "markdown",
   "metadata": {},
   "source": [
    "Based on this we come up with these values for our training parameters:\n",
    "\n",
    "* train_batch_size: 512\n",
    "* nbuckets: 16\n",
    "* hidden_units: \"64 64 64 8\"\n"
   ]
  },
  {
   "cell_type": "markdown",
   "metadata": {},
   "source": [
    "# Run with optimal hyperparameters"
   ]
  },
  {
   "cell_type": "code",
   "execution_count": 54,
   "metadata": {},
   "outputs": [
    {
     "name": "stdout",
     "output_type": "stream",
     "text": [
      "gs://rostlab-181304-ml/taxifare/feateng us-central1 mllive_181130_155335\n",
      "jobId: mllive_181130_155335\n",
      "state: QUEUED\n"
     ]
    },
    {
     "name": "stderr",
     "output_type": "stream",
     "text": [
      "Job [mllive_181130_155335] submitted successfully.\n",
      "Your job is still active. You may view the status of your job with the command\n",
      "\n",
      "  $ gcloud ml-engine jobs describe mllive_181130_155335\n",
      "\n",
      "or continue streaming the logs with the command\n",
      "\n",
      "  $ gcloud ml-engine jobs stream-logs mllive_181130_155335\n"
     ]
    }
   ],
   "source": [
    "%%bash\n",
    "\n",
    "OUTDIR=gs://${BUCKET}/taxifare/feateng\n",
    "JOBNAME=mllive_$(date -u +%y%m%d_%H%M%S)\n",
    "TIER=STANDARD_1 \n",
    "echo $OUTDIR $REGION $JOBNAME\n",
    "#gsutil -m rm -rf $OUTDIR\n",
    "gcloud ml-engine jobs submit training $JOBNAME \\\n",
    "   --region=$REGION \\\n",
    "   --module-name=trainer.task \\\n",
    "   --package-path=${PWD}/taxifare/trainer \\\n",
    "   --job-dir=$OUTDIR \\\n",
    "   --staging-bucket=gs://$BUCKET \\\n",
    "   --scale-tier=$TIER \\\n",
    "   --runtime-version=$TFVERSION \\\n",
    "   -- \\\n",
    "   --train_data_paths=\"gs://${BUCKET}/taxifare/taxi_preproc/train.csv-00001-of-*\" \\\n",
    "   --eval_data_paths=\"gs://${BUCKET}/taxifare/taxi_preproc/valid.csv-00000-of-*\"  \\\n",
    "   --output_dir=$OUTDIR \\\n",
    "   --train_steps=8000 \\\n",
    "   --train_batch_size=512 --nbuckets=16 --hidden_units=\"64 64 64 8\""
   ]
  },
  {
   "cell_type": "markdown",
   "metadata": {},
   "source": [
    "This yields an RMSE of about \\$5. Beating our first benchmark. But let's try this on a larger dataset and see how far we can push it."
   ]
  },
  {
   "cell_type": "markdown",
   "metadata": {},
   "source": [
    "# Run on large dataset with 2M records"
   ]
  },
  {
   "cell_type": "code",
   "execution_count": null,
   "metadata": {},
   "outputs": [],
   "source": [
    "%%bash\n",
    "\n",
    "WARNING -- this uses significant resources and is optional. Remove this line to run the block.\n",
    "\n",
    "OUTDIR=gs://${BUCKET}/taxifare/feateng2m\n",
    "JOBNAME=mllivexl_$(date -u +%y%m%d_%H%M%S)\n",
    "TIER=STANDARD_1 \n",
    "echo $OUTDIR $REGION $JOBNAME\n",
    "# only remove the outdir if you don't want to resume a previous run\n",
    "#gsutil -m rm -rf $OUTDIR\n",
    "gcloud ml-engine jobs submit training $JOBNAME \\\n",
    "   --region=$REGION \\\n",
    "   --module-name=trainer.task \\\n",
    "   --package-path=${PWD}/taxifare/trainer \\\n",
    "   --job-dir=$OUTDIR \\\n",
    "   --staging-bucket=gs://$BUCKET \\\n",
    "   --scale-tier=$TIER \\\n",
    "   --runtime-version=$TFVERSION \\\n",
    "   -- \\\n",
    "   --train_data_paths=\"gs://${BUCKET}/taxifare/taxi_preproc/train.csv-00001-of-*\" \\\n",
    "   --eval_data_paths=\"gs://${BUCKET}/taxifare/taxi_preproc/valid.csv-00000-of-*\"  \\\n",
    "   --output_dir=$OUTDIR \\\n",
    "   --train_steps=1600000 \\\n",
    "   --train_batch_size=512 --nbuckets=16 --hidden_units=\"64 64 64 8\""
   ]
  },
  {
   "cell_type": "markdown",
   "metadata": {},
   "source": [
    "### Start Tensorboard"
   ]
  },
  {
   "cell_type": "code",
   "execution_count": 55,
   "metadata": {},
   "outputs": [
    {
     "name": "stdout",
     "output_type": "stream",
     "text": [
      "gs://rostlab-181304-ml/taxifare/feateng2m\n"
     ]
    },
    {
     "data": {
      "text/html": [
       "<p>TensorBoard was started successfully with pid 8151. Click <a href=\"/_proxy/42655/\" target=\"_blank\">here</a> to access it.</p>"
      ]
     },
     "metadata": {},
     "output_type": "display_data"
    },
    {
     "data": {
      "text/plain": [
       "8151"
      ]
     },
     "execution_count": 55,
     "metadata": {},
     "output_type": "execute_result"
    }
   ],
   "source": [
    "from google.datalab.ml import TensorBoard\n",
    "OUTDIR='gs://{0}/taxifare/feateng2m'.format(BUCKET)\n",
    "print(OUTDIR)\n",
    "TensorBoard().start(OUTDIR)"
   ]
  },
  {
   "cell_type": "markdown",
   "metadata": {},
   "source": [
    "### Stop Tensorboard"
   ]
  },
  {
   "cell_type": "code",
   "execution_count": 63,
   "metadata": {},
   "outputs": [
    {
     "name": "stdout",
     "output_type": "stream",
     "text": [
      "Stopped TensorBoard with pid 11152\n",
      "Stopped TensorBoard with pid 12429\n"
     ]
    }
   ],
   "source": [
    "pids_df = TensorBoard.list()\n",
    "if not pids_df.empty:\n",
    "    for pid in pids_df['pid']:\n",
    "        TensorBoard().stop(pid)\n",
    "        print('Stopped TensorBoard with pid {}'.format(pid))"
   ]
  },
  {
   "cell_type": "markdown",
   "metadata": {},
   "source": [
    "The RMSE after training on the 2-million-row dataset is below \\$4.  This graph shows the improvements so far ..."
   ]
  },
  {
   "cell_type": "code",
   "execution_count": 39,
   "metadata": {},
   "outputs": [
    {
     "data": {
      "image/png": "[encoded data removed]",
      "text/plain": [
       "<matplotlib.figure.Figure at 0x7f06100d5990>"
      ]
     },
     "metadata": {},
     "output_type": "display_data"
    }
   ],
   "source": [
    "import pandas as pd\n",
    "import seaborn as sns\n",
    "import numpy as np\n",
    "import matplotlib.pyplot as plt\n",
    "\n",
    "df = pd.DataFrame({'Lab' : pd.Series(['1a', '2-3', '4a', '4b', '4c']),\n",
    "              'Method' : pd.Series(['Heuristic Benchmark', 'tf.learn', '+Feature Eng.', '+ Hyperparam', '+ 2m rows']),\n",
    "              'RMSE': pd.Series([8.026, 9.4, 8.3, 5.0, 3.03]) })\n",
    "\n",
    "ax = sns.barplot(data = df, x = 'Method', y = 'RMSE')\n",
    "ax.set_ylabel('RMSE (dollars)')\n",
    "ax.set_xlabel('Labs/Methods')\n",
    "plt.plot(np.linspace(-20, 120, 1000), [5] * 1000, 'b');"
   ]
  },
  {
   "cell_type": "markdown",
   "metadata": {},
   "source": [
    "# References\n",
    "\n",
    "This notebook is based on labs from an excellent [coursera class](https://www.coursera.org/learn/serverless-machine-learning-gcp) that is a great starting point to learn about machine learning with tensorflow in the cloud."
   ]
  },
  {
   "cell_type": "markdown",
   "metadata": {},
   "source": [
    "Copyright 2016 Google Inc. Licensed under the Apache License, Version 2.0 (the \"License\"); you may not use this file except in compliance with the License. You may obtain a copy of the License at http://www.apache.org/licenses/LICENSE-2.0 Unless required by applicable law or agreed to in writing, software distributed under the License is distributed on an \"AS IS\" BASIS, WITHOUT WARRANTIES OR CONDITIONS OF ANY KIND, either express or implied. See the License for the specific language governing permissions and limitations under the License"
   ]
  }
 ],
 "metadata": {
  "kernelspec": {
   "display_name": "Python 2",
   "language": "python",
   "name": "python2"
  },
  "language_info": {
   "codemirror_mode": {
    "name": "ipython",
    "version": 2
   },
   "file_extension": ".py",
   "mimetype": "text/x-python",
   "name": "python",
   "nbconvert_exporter": "python",
   "pygments_lexer": "ipython2",
   "version": "2.7.15"
  }
 },
 "nbformat": 4,
 "nbformat_minor": 2
}
